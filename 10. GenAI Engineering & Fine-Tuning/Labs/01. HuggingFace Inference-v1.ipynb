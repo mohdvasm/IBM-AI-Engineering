{
 "cells": [
  {
   "cell_type": "markdown",
   "id": "a767cbfe-d994-4335-80fe-90b80472bdb4",
   "metadata": {},
   "source": [
    "<p style=\"text-align:center\">\n",
    "    <a href=\"https://skills.network\" target=\"_blank\">\n",
    "    <img src=\"https://cf-courses-data.s3.us.cloud-object-storage.appdomain.cloud/assets/logos/SN_web_lightmode.png\" width=\"200\" alt=\"Skills Network Logo\"  />\n",
    "    </a>\n",
    "</p>\n"
   ]
  },
  {
   "cell_type": "markdown",
   "id": "dd5f23dd-9f5d-49e3-af93-5bc28b0d083d",
   "metadata": {},
   "source": [
    "# **Loading Models and Inference with Hugging Face Inferences**\n"
   ]
  },
  {
   "cell_type": "markdown",
   "id": "f506f2de-8f13-4032-b486-ff597cd1ee08",
   "metadata": {},
   "source": [
    "Estimated time needed: **20** minutes\n"
   ]
  },
  {
   "cell_type": "markdown",
   "id": "1518769a-ef7b-4ab9-9ca2-aad1d08ab708",
   "metadata": {},
   "source": [
    "In this lab, you will explore how to leverage the Hugging Face `transformers` library for various natural language processing (NLP) tasks. You will start by performing text classification and text generation using pretrained models like DistilBERT and GPT-2 without using the `pipeline()` function, understanding the steps involved in loading models, tokenizing input, performing inference, and processing outputs. Then, you will discover the simplicity and efficiency of using the `pipeline()` function to accomplish the same tasks with minimal code. By comparing both approaches, you will appreciate how the `pipeline()` function streamlines the process, making it easier and faster to implement NLP solutions.\n"
   ]
  },
  {
   "cell_type": "markdown",
   "id": "a2d33e25-3757-4605-8b2c-c26b06f49605",
   "metadata": {},
   "source": [
    "## __Table of Contents__\n",
    "\n",
    "<ol>\n",
    "    <li><a href=\"#Objectives\">Objectives</a></li>\n",
    "    <li>\n",
    "        <a href=\"#Setup\">Setup</a>\n",
    "        <ol>\n",
    "            <li><a href=\"#Installing-required-libraries\">Installing required libraries</a></li>\n",
    "            <li><a href=\"#Importing-required-libraries\">Importing required libraries</a></li>\n",
    "        </ol>\n",
    "    </li>\n",
    "    <li>\n",
    "        <a href=\"#Text-classification-with-DistilBERT\">Text classification with DistilBERT</a>\n",
    "    </li>\n",
    "    <li>\n",
    "        <a href=\"#Text-generation-with-GPT-2\">Text generation with GPT-2</a>\n",
    "    </li>\n",
    "    <li>\n",
    "        <a href=\"#Hugging-Face-pipeline()-function\">Hugging Face `pipeline()` function</a>\n",
    "        <ol>\n",
    "            <li><a href=\"#Definition\">Definition</a></li>\n",
    "            <li><a href=\"#Parameters\">Parameters</a></li>\n",
    "            <li><a href=\"#Task-types\">Task types</a>\n",
    "                <ol>\n",
    "                    <li><a href=\"#Example-1:-Text-classification-using-pipeline()\">Example 1: Text classification using `pipeline()`</a>\n",
    "                    </li>\n",
    "                    <li><a href=\"#Example-2:-Language-detection-using-pipeline()\">Example 2: Language detection using `pipeline()`</a>\n",
    "                    </li>\n",
    "                    <li><a href=\"#Example-3:-Text-generation-using-pipeline()\">Example 3: Text generation using `pipeline()`</a>\n",
    "                    </li>\n",
    "                    <li><a href=\"#Example-4:-Text-generation-using-T5-with-pipeline()\">Example 4: Text generation using T5 with `pipeline()`</a>\n",
    "                    </li>\n",
    "                </ol>\n",
    "            </li>\n",
    "            <li><a href=\"#Benefits-of-using-pipeline()\">Benefits of using `pipeline()`</a></li>\n",
    "            <li><a href=\"#When-to-use-pipeline()\">When to use `pipeline()`</a></li>\n",
    "            <li><a href=\"#When-to-avoid-pipeline()\">When to avoid `pipeline()`</a></li>\n",
    "        </ol>\n",
    "    </li>\n",
    "    <li>\n",
    "        <a href=\"#Exercise:-Fill-mask-task-using-BERT-with-pipeline()\">Exercise: Fill-mask task using BERT with `pipeline()`</a>\n",
    "    </li>\n",
    "</ol>\n"
   ]
  },
  {
   "cell_type": "markdown",
   "id": "cec08991-dbc8-4574-8064-7f855df07bbb",
   "metadata": {},
   "source": [
    "## Objectives\n",
    "\n",
    "- Learn to set up and use the Hugging Face `transformers` library.\n",
    "- Perform text classification and text generation using DistilBERT and GPT-2 models without `pipeline()`.\n",
    "- Understand and utilize the `pipeline()` function to simplify various NLP tasks.\n",
    "- Compare the ease of using models directly versus using the `pipeline()` function.\n"
   ]
  },
  {
   "cell_type": "markdown",
   "id": "2f1b74cc-e10b-4e17-aa12-1a7d492a7eba",
   "metadata": {},
   "source": [
    "----\n"
   ]
  },
  {
   "cell_type": "markdown",
   "id": "81220bb8-b961-420c-88e4-224e5fc4eaf1",
   "metadata": {},
   "source": [
    "## Setup\n"
   ]
  },
  {
   "cell_type": "markdown",
   "id": "428d3392-477f-41a7-9f98-aa22c746da47",
   "metadata": {},
   "source": [
    "For this lab, you will be using the following libraries:\n",
    "\n",
    "*   [`torch`](https://pytorch.org/?utm_medium=Exinfluencer&utm_source=Exinfluencer&utm_content=000026UJ&utm_term=10006555&utm_id=NA-SkillsNetwork-Channel-SkillsNetworkCoursesIBMML0187ENSkillsNetwork31430127-2021-01-01) for deep learning and neural network modeling.\n",
    "*   [`transformers`](https://huggingface.co/transformers/?utm_medium=Exinfluencer&utm_source=Exinfluencer&utm_content=000026UJ&utm_term=10006555&utm_id=NA-SkillsNetwork-Channel-SkillsNetworkCoursesIBMML0187ENSkillsNetwork31430127-2021-01-01) for accessing pretrained models and performing various NLP tasks with ease.\n"
   ]
  },
  {
   "cell_type": "markdown",
   "id": "07fd4b20-63de-4f94-bc39-09d6a67e8701",
   "metadata": {},
   "source": [
    "### Installing required libraries\n"
   ]
  },
  {
   "cell_type": "code",
   "execution_count": 1,
   "id": "cf56275c-fd90-462b-b976-e74738e3d2e2",
   "metadata": {},
   "outputs": [
    {
     "name": "stdout",
     "output_type": "stream",
     "text": [
      "Defaulting to user installation because normal site-packages is not writeable\n",
      "Requirement already satisfied: torch in /home/vasim/.local/lib/python3.10/site-packages (2.4.0)\n",
      "Requirement already satisfied: nvidia-nvtx-cu12==12.1.105 in /home/vasim/.local/lib/python3.10/site-packages (from torch) (12.1.105)\n",
      "Requirement already satisfied: nvidia-cufft-cu12==11.0.2.54 in /home/vasim/.local/lib/python3.10/site-packages (from torch) (11.0.2.54)\n",
      "Requirement already satisfied: nvidia-cuda-runtime-cu12==12.1.105 in /home/vasim/.local/lib/python3.10/site-packages (from torch) (12.1.105)\n",
      "Requirement already satisfied: typing-extensions>=4.8.0 in /home/vasim/.local/lib/python3.10/site-packages (from torch) (4.12.2)\n",
      "Requirement already satisfied: triton==3.0.0 in /home/vasim/.local/lib/python3.10/site-packages (from torch) (3.0.0)\n",
      "Requirement already satisfied: filelock in /home/vasim/.local/lib/python3.10/site-packages (from torch) (3.14.0)\n",
      "Requirement already satisfied: nvidia-cusolver-cu12==11.4.5.107 in /home/vasim/.local/lib/python3.10/site-packages (from torch) (11.4.5.107)\n",
      "Requirement already satisfied: sympy in /home/vasim/.local/lib/python3.10/site-packages (from torch) (1.12.1)\n",
      "Requirement already satisfied: nvidia-cudnn-cu12==9.1.0.70 in /home/vasim/.local/lib/python3.10/site-packages (from torch) (9.1.0.70)\n",
      "Requirement already satisfied: jinja2 in /home/vasim/.local/lib/python3.10/site-packages (from torch) (3.1.4)\n",
      "Requirement already satisfied: networkx in /home/vasim/.local/lib/python3.10/site-packages (from torch) (3.3)\n",
      "Requirement already satisfied: nvidia-cublas-cu12==12.1.3.1 in /home/vasim/.local/lib/python3.10/site-packages (from torch) (12.1.3.1)\n",
      "Requirement already satisfied: nvidia-cusparse-cu12==12.1.0.106 in /home/vasim/.local/lib/python3.10/site-packages (from torch) (12.1.0.106)\n",
      "Requirement already satisfied: nvidia-cuda-cupti-cu12==12.1.105 in /home/vasim/.local/lib/python3.10/site-packages (from torch) (12.1.105)\n",
      "Requirement already satisfied: nvidia-nccl-cu12==2.20.5 in /home/vasim/.local/lib/python3.10/site-packages (from torch) (2.20.5)\n",
      "Requirement already satisfied: fsspec in /home/vasim/.local/lib/python3.10/site-packages (from torch) (2024.6.0)\n",
      "Requirement already satisfied: nvidia-curand-cu12==10.3.2.106 in /home/vasim/.local/lib/python3.10/site-packages (from torch) (10.3.2.106)\n",
      "Requirement already satisfied: nvidia-cuda-nvrtc-cu12==12.1.105 in /home/vasim/.local/lib/python3.10/site-packages (from torch) (12.1.105)\n",
      "Requirement already satisfied: nvidia-nvjitlink-cu12 in /home/vasim/.local/lib/python3.10/site-packages (from nvidia-cusolver-cu12==11.4.5.107->torch) (12.5.40)\n",
      "Requirement already satisfied: MarkupSafe>=2.0 in /usr/lib/python3/dist-packages (from jinja2->torch) (2.0.1)\n",
      "Requirement already satisfied: mpmath<1.4.0,>=1.1.0 in /home/vasim/.local/lib/python3.10/site-packages (from sympy->torch) (1.3.0)\n",
      "Defaulting to user installation because normal site-packages is not writeable\n",
      "Requirement already satisfied: transformers in /home/vasim/.local/lib/python3.10/site-packages (4.44.2)\n",
      "Requirement already satisfied: numpy>=1.17 in /home/vasim/.local/lib/python3.10/site-packages (from transformers) (1.26.4)\n",
      "Requirement already satisfied: huggingface-hub<1.0,>=0.23.2 in /home/vasim/.local/lib/python3.10/site-packages (from transformers) (0.24.6)\n",
      "Requirement already satisfied: requests in /home/vasim/.local/lib/python3.10/site-packages (from transformers) (2.32.3)\n",
      "Requirement already satisfied: tokenizers<0.20,>=0.19 in /home/vasim/.local/lib/python3.10/site-packages (from transformers) (0.19.1)\n",
      "Requirement already satisfied: filelock in /home/vasim/.local/lib/python3.10/site-packages (from transformers) (3.14.0)\n",
      "Requirement already satisfied: tqdm>=4.27 in /home/vasim/.local/lib/python3.10/site-packages (from transformers) (4.66.5)\n",
      "Requirement already satisfied: packaging>=20.0 in /home/vasim/.local/lib/python3.10/site-packages (from transformers) (24.0)\n",
      "Requirement already satisfied: regex!=2019.12.17 in /home/vasim/.local/lib/python3.10/site-packages (from transformers) (2024.7.24)\n",
      "Requirement already satisfied: safetensors>=0.4.1 in /home/vasim/.local/lib/python3.10/site-packages (from transformers) (0.4.4)\n",
      "Requirement already satisfied: pyyaml>=5.1 in /usr/lib/python3/dist-packages (from transformers) (5.4.1)\n",
      "Requirement already satisfied: typing-extensions>=3.7.4.3 in /home/vasim/.local/lib/python3.10/site-packages (from huggingface-hub<1.0,>=0.23.2->transformers) (4.12.2)\n",
      "Requirement already satisfied: fsspec>=2023.5.0 in /home/vasim/.local/lib/python3.10/site-packages (from huggingface-hub<1.0,>=0.23.2->transformers) (2024.6.0)\n",
      "Requirement already satisfied: certifi>=2017.4.17 in /usr/lib/python3/dist-packages (from requests->transformers) (2020.6.20)\n",
      "Requirement already satisfied: urllib3<3,>=1.21.1 in /home/vasim/.local/lib/python3.10/site-packages (from requests->transformers) (2.2.2)\n",
      "Requirement already satisfied: idna<4,>=2.5 in /usr/lib/python3/dist-packages (from requests->transformers) (3.3)\n",
      "Requirement already satisfied: charset-normalizer<4,>=2 in /home/vasim/.local/lib/python3.10/site-packages (from requests->transformers) (3.3.2)\n"
     ]
    }
   ],
   "source": [
    "!pip install torch\n",
    "!pip install transformers"
   ]
  },
  {
   "cell_type": "markdown",
   "id": "32f62666-a86e-4449-9ae6-7fde10d41aa4",
   "metadata": {},
   "source": [
    "### Importing required libraries\n",
    "\n",
    "_It is recommended that you import all required libraries in one place (here):_\n"
   ]
  },
  {
   "cell_type": "code",
   "execution_count": 2,
   "id": "39c42069-651a-4f3c-af6d-2a5778e20632",
   "metadata": {},
   "outputs": [
    {
     "name": "stderr",
     "output_type": "stream",
     "text": [
      "/home/vasim/.local/lib/python3.10/site-packages/tqdm/auto.py:21: TqdmWarning: IProgress not found. Please update jupyter and ipywidgets. See https://ipywidgets.readthedocs.io/en/stable/user_install.html\n",
      "  from .autonotebook import tqdm as notebook_tqdm\n"
     ]
    }
   ],
   "source": [
    "from transformers import pipeline\n",
    "from transformers import DistilBertForSequenceClassification, DistilBertTokenizer\n",
    "import torch\n",
    "from transformers import GPT2LMHeadModel, GPT2Tokenizer\n",
    "\n",
    "# You can also use this section to suppress warnings generated by your code:\n",
    "def warn(*args, **kwargs):\n",
    "    pass\n",
    "import warnings\n",
    "warnings.warn = warn\n",
    "warnings.filterwarnings('ignore')"
   ]
  },
  {
   "cell_type": "markdown",
   "id": "a727045a-3fd7-489d-9e0c-43082c7497e9",
   "metadata": {},
   "source": [
    "# Text classification with DistilBERT\n"
   ]
  },
  {
   "cell_type": "markdown",
   "id": "1ab2accc-f09e-428e-86c5-30e3aecdf66b",
   "metadata": {},
   "source": [
    "## Load the model and tokenizer\n",
    "\n",
    "First, let's initialize a tokenizer and a model for sentiment analysis using DistilBERT fine-tuned on the SST-2 dataset. This setup is useful for tasks where you need to quickly classify the sentiment of a piece of text with a pretrained, efficient transformer model.\n"
   ]
  },
  {
   "cell_type": "code",
   "execution_count": 3,
   "id": "1c3e90aa-a1e5-42d0-b864-ec99b2874695",
   "metadata": {},
   "outputs": [],
   "source": [
    "# Load the tokenizer and model\n",
    "tokenizer = DistilBertTokenizer.from_pretrained(\"distilbert-base-uncased-finetuned-sst-2-english\")\n",
    "model = DistilBertForSequenceClassification.from_pretrained(\"distilbert-base-uncased-finetuned-sst-2-english\")"
   ]
  },
  {
   "cell_type": "markdown",
   "id": "17d3b27d-fb7f-48b7-8c9d-486516a6a368",
   "metadata": {},
   "source": [
    "## Preprocess the input text\n",
    "Tokenize the input text and convert it to a format suitable for the model:\n"
   ]
  },
  {
   "cell_type": "code",
   "execution_count": 4,
   "id": "07525832-402f-4aaf-aae0-17eb39c4da6b",
   "metadata": {},
   "outputs": [
    {
     "name": "stdout",
     "output_type": "stream",
     "text": [
      "{'input_ids': tensor([[  101, 23156,   999,  2017,  1005,  2310,  2180,  1037,  2489,  7281,\n",
      "          2000,  1996, 17094,  1012,  7514,  2663,  2000,  4366,  1012,   102]]), 'attention_mask': tensor([[1, 1, 1, 1, 1, 1, 1, 1, 1, 1, 1, 1, 1, 1, 1, 1, 1, 1, 1, 1]])}\n"
     ]
    }
   ],
   "source": [
    "# Sample text\n",
    "text = \"Congratulations! You've won a free ticket to the Bahamas. Reply WIN to claim.\"\n",
    "\n",
    "# Tokenize the input text\n",
    "inputs = tokenizer(text, return_tensors=\"pt\")\n",
    "\n",
    "print(inputs)"
   ]
  },
  {
   "cell_type": "markdown",
   "id": "7e216758-51d3-42f7-acd4-ffb1154e6d88",
   "metadata": {},
   "source": [
    "The token ids are the token indexes  ```attention_mask``` is essential for correctly processing padded sequences, ensuring efficient computation, and maintaining model performance. Even when no tokens are explicitly masked, it helps the model differentiate between actual content and padding, which is critical for accurate and efficient processing of input data.\n"
   ]
  },
  {
   "cell_type": "markdown",
   "id": "ced904ed-5b36-4533-8d87-4503f2a4efaa",
   "metadata": {},
   "source": [
    "###  Perform inference\n",
    "The `torch.no_grad()` context manager is used to disable gradient calculation.\n",
    "This reduces memory consumption and speeds up computation, as gradients are not needed for inference (i.e. when you are not training the model). The **inputs syntax is used to unpack a dictionary of keyword arguments in Python. In the context of the model(**inputs):\n"
   ]
  },
  {
   "cell_type": "markdown",
   "metadata": {},
   "source": [
    "Model expects the input like the following: \n",
    "```python\n",
    "# Model expects\n",
    "with torch.no_grad():\n",
    "    outputs = model(input_ids=inputs[\"input_ids\"], attention_mask=inputs[\"attention_mask\"])\n",
    "\n",
    "# Unpacking with kwargs\n",
    "with torch.no_grad():\n",
    "    outputs = model(**inputs)\n",
    "\n",
    "```\n",
    "\n",
    "not a dictionary as the tokenizer outputs a dictionary. it is passed as **inputs that unpacks the dictionary into paramters and passed to model. "
   ]
  },
  {
   "cell_type": "code",
   "execution_count": 9,
   "id": "00454b6e-69f3-4087-9ce8-c8218864de09",
   "metadata": {},
   "outputs": [
    {
     "data": {
      "text/plain": [
       "SequenceClassifierOutput(loss=None, logits=tensor([[-3.9954,  4.3336]]), hidden_states=None, attentions=None)"
      ]
     },
     "execution_count": 9,
     "metadata": {},
     "output_type": "execute_result"
    }
   ],
   "source": [
    "# Perform inference\n",
    "with torch.no_grad():\n",
    "    outputs = model(**inputs)\n",
    "\n",
    "outputs"
   ]
  },
  {
   "cell_type": "markdown",
   "id": "5ea7f815-8304-4aa0-8fa6-60f3f52a67a4",
   "metadata": {},
   "source": [
    "Another method is `input_ids`, and `attention_mask` is their own parameter.\n"
   ]
  },
  {
   "cell_type": "code",
   "execution_count": null,
   "id": "98312b8d-599e-4d99-92ed-60c58b3c6456",
   "metadata": {},
   "outputs": [],
   "source": [
    "#model(input_ids=inputs['input_ids'], attention_mask=inputs['attention_mask'])"
   ]
  },
  {
   "cell_type": "markdown",
   "id": "a3f779e2-c484-4cbb-a7b6-0d564230026b",
   "metadata": {},
   "source": [
    "#### Get the logits\n",
    "The logits are the raw, unnormalized predictions of the model. Let's extract the logits from the model's outputs to perform further processing, such as determining the predicted class or calculating probabilities.\n"
   ]
  },
  {
   "cell_type": "code",
   "execution_count": 10,
   "id": "d6f5f062-63a0-418f-b1ad-509d20abaff5",
   "metadata": {},
   "outputs": [
    {
     "data": {
      "text/plain": [
       "torch.Size([1, 2])"
      ]
     },
     "execution_count": 10,
     "metadata": {},
     "output_type": "execute_result"
    }
   ],
   "source": [
    "logits = outputs.logits\n",
    "logits.shape"
   ]
  },
  {
   "cell_type": "markdown",
   "id": "f7f77c08-9237-4789-b98c-f43535f9dffc",
   "metadata": {},
   "source": [
    "## Post-process the output\n",
    "Convert the logits to probabilities and get the predicted class:\n"
   ]
  },
  {
   "cell_type": "markdown",
   "metadata": {},
   "source": [
    "\n",
    "### **Understanding `softmax(dim=-1)` Step by Step**\n",
    "\n",
    "You have this matrix (a **2D tensor**) with **3 rows and 4 columns**:\n",
    "\n",
    "```\n",
    "logits = [\n",
    "  [0.5291, 0.1945, 0.0887, 0.1877],\n",
    "  [0.1005, 0.6245, 0.1715, 0.1035],\n",
    "  [0.2503, 0.4760, 0.0901, 0.1836]\n",
    "]\n",
    "```\n",
    "\n",
    "#### **Step 1: What is `dim=-1`?**\n",
    "- **`dim=-1` means \"apply softmax to the last dimension\".**  \n",
    "- In a **2D matrix**, the last dimension (or axis) is the **columns**.\n",
    "- So, **softmax is applied separately to each row** (not columns).  \n",
    "\n",
    "---\n",
    "\n",
    "#### **Step 2: How Does It Work?**\n",
    "Softmax converts numbers into **probabilities** by making sure each row **sums to 1**.\n",
    "\n",
    "👉 **Let's apply softmax row by row:**  \n",
    "\n",
    "For **Row 1** → `[0.5291, 0.1945, 0.0887, 0.1877]`  \n",
    "- Softmax takes these **four numbers** and transforms them into **four probabilities**.  \n",
    "- The sum of these **four probabilities** will be **1**.\n",
    "\n",
    "For **Row 2** → `[0.1005, 0.6245, 0.1715, 0.1035]`  \n",
    "- Again, softmax applies only to these **four values**, making sure they sum to **1**.\n",
    "\n",
    "For **Row 3** → `[0.2503, 0.4760, 0.0901, 0.1836]`  \n",
    "- The same process happens: softmax turns these four numbers into **four probabilities** that sum to **1**.\n",
    "\n",
    "---\n",
    "\n",
    "#### **Step 3: Why Do We Apply Softmax Like This?**\n",
    "- In **machine learning (ML)**, especially in classification tasks, each row represents a **different sample**.\n",
    "- Each **column** represents a different **class**.\n",
    "- Softmax ensures that for each row (each sample), the numbers **turn into probabilities** that add up to **1**.\n",
    "\n",
    "✅ **So, using `softmax(dim=-1)` means:**\n",
    "- \"Apply softmax across columns, treating each row separately.\"\n",
    "- \"Make each row sum to **1**, so we get valid probability values.\"\n",
    "\n",
    "---\n",
    "\n",
    "### **Visual Example**\n",
    "Imagine each row is a different student taking a test, and each column represents a different subject:\n",
    "\n",
    "| Student | Math | Science | History | English |\n",
    "|---------|------|---------|---------|---------|\n",
    "| **A**  | 0.5  | 0.2     | 0.1     | 0.2     |\n",
    "| **B**  | 0.1  | 0.6     | 0.2     | 0.1     |\n",
    "| **C**  | 0.2  | 0.5     | 0.1     | 0.2     |\n",
    "\n",
    "Softmax ensures that **each student's row sums to 1**, making it a **valid probability distribution**.\n",
    "\n",
    "---\n",
    "\n",
    "### **What Happens If We Use `dim=0` Instead?**\n",
    "- `dim=0` means **apply softmax across rows (column-wise).**\n",
    "- This would mean comparing **Math scores across all students**, then **Science scores across all students**, etc.\n",
    "- This is usually **not** what we want in classification tasks.\n",
    "\n",
    "---\n",
    "\n",
    "### **Key Takeaways for Beginners**\n",
    "✅ **`dim=-1` applies softmax row-wise (across columns)**.  \n",
    "✅ **Each row is treated separately, and softmax converts values into probabilities that sum to 1**.  \n",
    "✅ **This is useful in ML because each row represents a different sample's class probabilities**.  \n"
   ]
  },
  {
   "cell_type": "code",
   "execution_count": 11,
   "id": "1b4431a7-f981-4727-8558-cb373506ab29",
   "metadata": {},
   "outputs": [
    {
     "name": "stdout",
     "output_type": "stream",
     "text": [
      "Predicted label: POSITIVE\n"
     ]
    }
   ],
   "source": [
    "# Convert logits to probabilities\n",
    "probs = torch.softmax(logits, dim=-1)\n",
    "\n",
    "# Get the predicted class\n",
    "predicted_class = torch.argmax(probs, dim=-1)\n",
    "\n",
    "# Map the predicted class to the label\n",
    "labels = [\"NEGATIVE\", \"POSITIVE\"]\n",
    "predicted_label = labels[predicted_class]\n",
    "\n",
    "print(f\"Predicted label: {predicted_label}\")"
   ]
  },
  {
   "cell_type": "markdown",
   "id": "6016f7be-074b-448d-8b57-414f01aa03a6",
   "metadata": {},
   "source": [
    "# Text generation with GPT-2 \n"
   ]
  },
  {
   "cell_type": "markdown",
   "id": "49f5aa16-8737-49a7-865e-e06348436703",
   "metadata": {},
   "source": [
    "## Load tokenizer\n",
    " Load the pretrained GPT-2 tokenizer. The tokenizer is responsible for converting text into tokens that the model can understand.\n"
   ]
  },
  {
   "cell_type": "code",
   "execution_count": 12,
   "id": "665b7203-2e66-4de1-9e83-b4c2ec03b820",
   "metadata": {},
   "outputs": [],
   "source": [
    "# Load the tokenizer and model\n",
    "tokenizer = GPT2Tokenizer.from_pretrained(\"gpt2\")"
   ]
  },
  {
   "cell_type": "markdown",
   "id": "2a5248a8-5b6b-4aeb-b358-2b65dc39dc34",
   "metadata": {},
   "source": [
    "Load the pretrained GPT-2 model with a language modeling head. The model generates text based on the input tokens.\n"
   ]
  },
  {
   "cell_type": "code",
   "execution_count": 13,
   "id": "b25e8c9a-8c22-49ba-ad16-ab60a58ce894",
   "metadata": {},
   "outputs": [],
   "source": [
    "# Load the tokenizer and model\n",
    "\n",
    "model = GPT2LMHeadModel.from_pretrained(\"gpt2\")"
   ]
  },
  {
   "cell_type": "markdown",
   "id": "35e0798e-aa7b-4399-afff-42975d8ebdc2",
   "metadata": {},
   "source": [
    "## Preprocess the input text  \n",
    "Tokenize the input text and convert it to a format suitable for the model, like before you have the token indexes, i.e., inputs. \n"
   ]
  },
  {
   "cell_type": "code",
   "execution_count": 14,
   "id": "f25ba2d5-acc5-4c72-ab9c-bac5affa1590",
   "metadata": {},
   "outputs": [
    {
     "data": {
      "text/plain": [
       "{'input_ids': tensor([[7454, 2402,  257,  640]]), 'attention_mask': tensor([[1, 1, 1, 1]])}"
      ]
     },
     "execution_count": 14,
     "metadata": {},
     "output_type": "execute_result"
    }
   ],
   "source": [
    "# Prompt\n",
    "prompt = \"Once upon a time\"\n",
    "\n",
    "# Tokenize the input text\n",
    "inputs = tokenizer(prompt, return_tensors=\"pt\")\n",
    "inputs"
   ]
  },
  {
   "cell_type": "markdown",
   "id": "b5583f5e-9e01-4000-a4f1-ec4382852c4a",
   "metadata": {},
   "source": [
    "## Perform inference  \n",
    "Generate text using the model\n",
    "\n",
    "```inputs:``` Input token IDs from the tokenizer\n",
    "\n",
    "```attention_mask:``` Mask indicating which tokens to attend to\n",
    "\n",
    "```pad_token_id:```Padding token ID set to the end-of-sequence token ID\n",
    "\n",
    "```max_length:``` Maximum length of the generated sequences\n",
    "\n",
    "```num_return_sequence:``` Number of sequences to generate\n"
   ]
  },
  {
   "cell_type": "code",
   "execution_count": 17,
   "metadata": {},
   "outputs": [
    {
     "data": {
      "text/plain": [
       "50256"
      ]
     },
     "execution_count": 17,
     "metadata": {},
     "output_type": "execute_result"
    }
   ],
   "source": [
    "tokenizer.eos_token_id"
   ]
  },
  {
   "cell_type": "code",
   "execution_count": 18,
   "metadata": {},
   "outputs": [
    {
     "data": {
      "text/plain": [
       "'<|endoftext|>'"
      ]
     },
     "execution_count": 18,
     "metadata": {},
     "output_type": "execute_result"
    }
   ],
   "source": [
    "tokenizer.eos_token"
   ]
  },
  {
   "cell_type": "code",
   "execution_count": 15,
   "id": "8b8a1693-70ef-4198-bb41-1e0ce8ed6a93",
   "metadata": {},
   "outputs": [
    {
     "data": {
      "text/plain": [
       "tensor([[7454, 2402,  257,  640,   11,  262,  995,  373,  257, 1295,  286, 1049,\n",
       "         8737,  290, 1049, 3514,   13,  383,  995,  373,  257, 1295,  286, 1049,\n",
       "         3514,   11,  290,  262,  995,  373,  257, 1295,  286, 1049, 3514,   13,\n",
       "          383,  995,  373,  257, 1295,  286, 1049, 3514,   11,  290,  262,  995,\n",
       "          373,  257]])"
      ]
     },
     "execution_count": 15,
     "metadata": {},
     "output_type": "execute_result"
    }
   ],
   "source": [
    "# Generate text\n",
    "output_ids = model.generate(\n",
    "    inputs.input_ids, \n",
    "    attention_mask=inputs.attention_mask,\n",
    "    pad_token_id=tokenizer.eos_token_id,\n",
    "    max_length=50, \n",
    "    num_return_sequences=1\n",
    ")\n",
    "\n",
    "output_ids"
   ]
  },
  {
   "cell_type": "markdown",
   "metadata": {},
   "source": [
    "The `pad_token_id` parameter in the `model.generate` function is used to specify the token ID that should be used for padding. Padding tokens are typically used to ensure that all input sequences in a batch have the same length, which is necessary for efficient processing in many machine learning models.\n",
    "\n",
    "In this context, setting `pad_token_id=tokenizer.eos_token_id` means that the end-of-sequence (EOS) token ID defined by the tokenizer will be used as the padding token. This ensures that any padding added to the input sequences will be recognized as such by the model, allowing it to correctly handle the padding during text generation.\n",
    "\n",
    "The significance of using the EOS token ID as the padding token is that it helps the model distinguish between actual content and padding. This is particularly important when generating text, as it ensures that the model does not generate text based on padding tokens, which could lead to incorrect or nonsensical output."
   ]
  },
  {
   "cell_type": "markdown",
   "id": "99d7eef8-b64c-40f8-918a-16aa3150f9d2",
   "metadata": {},
   "source": [
    "or\n"
   ]
  },
  {
   "cell_type": "markdown",
   "id": "26abc183-11b1-4626-bf2e-fc6501ed7479",
   "metadata": {},
   "source": [
    "```python\n",
    "with torch.no_grad():\n",
    "    outputs = model(**inputs) \n",
    "\n",
    "outputs\n"
   ]
  },
  {
   "cell_type": "markdown",
   "id": "c359c965-ce08-49dd-9796-03ed7c2b950a",
   "metadata": {},
   "source": [
    "## Post-process the output  \n",
    "Decode the generated tokens to get the text:\n"
   ]
  },
  {
   "cell_type": "code",
   "execution_count": 16,
   "id": "3cac66de-4c4d-4ec8-8cb0-11251176f3e9",
   "metadata": {},
   "outputs": [
    {
     "name": "stdout",
     "output_type": "stream",
     "text": [
      "Once upon a time, the world was a place of great beauty and great danger. The world was a place of great danger, and the world was a place of great danger. The world was a place of great danger, and the world was a\n"
     ]
    }
   ],
   "source": [
    "# Decode the generated text\n",
    "generated_text = tokenizer.decode(output_ids[0], skip_special_tokens=True)\n",
    "\n",
    "print(generated_text)"
   ]
  },
  {
   "cell_type": "markdown",
   "id": "70eaf1ba-13ed-4c3e-8b0d-6a3953b00994",
   "metadata": {},
   "source": [
    "# Hugging Face `pipeline()` function\n",
    "\n",
    "The `pipeline()` function from the Hugging Face `transformers` library is a high-level API designed to simplify the usage of pretrained models for various natural language processing (NLP) tasks. It abstracts the complexities of model loading, tokenization, inference, and post-processing, allowing users to perform complex NLP tasks with just a few lines of code.\n",
    "\n",
    "## Definition\n",
    "\n",
    "```python\n",
    "transformers.pipeline(\n",
    "    task: str,\n",
    "    model: Optional = None,\n",
    "    config: Optional = None,\n",
    "    tokenizer: Optional = None,\n",
    "    feature_extractor: Optional = None,\n",
    "    framework: Optional = None,\n",
    "    revision: str = 'main',\n",
    "    use_fast: bool = True,\n",
    "    model_kwargs: Dict[str, Any] = None,\n",
    "    **kwargs\n",
    ")\n",
    "```\n",
    "\n",
    "## Parameters\n",
    "\n",
    "- **task**: `str`\n",
    "  - The task to perform, such as \"text-classification\", \"text-generation\", \"question-answering\", etc.\n",
    "  - Example: `\"text-classification\"`\n",
    "\n",
    "- **model**: `Optional`\n",
    "  - The model to use. This can be a string (model identifier from Hugging Face model hub), a path to a directory containing model files, or a pre-loaded model instance.\n",
    "  - Example: `\"distilbert-base-uncased-finetuned-sst-2-english\"`\n",
    "\n",
    "- **config**: `Optional`\n",
    "  - The configuration to use. This can be a string, a path to a directory, or a pre-loaded config object.\n",
    "  - Example: `{\"output_attentions\": True}`\n",
    "\n",
    "- **tokenizer**: `Optional`\n",
    "  - The tokenizer to use. This can be a string, a path to a directory, or a pre-loaded tokenizer instance.\n",
    "  - Example: `\"bert-base-uncased\"`\n",
    "\n",
    "- **feature_extractor**: `Optional`\n",
    "  - The feature extractor to use for tasks that require it (e.g., image processing).\n",
    "  - Example: `\"facebook/detectron2\"`\n",
    "\n",
    "- **framework**: `Optional`\n",
    "  - The framework to use, either `\"pt\"` for PyTorch or `\"tf\"` for TensorFlow. If not specified, it will be inferred.\n",
    "  - Example: `\"pt\"`\n",
    "\n",
    "- **revision**: `str`, default `'main'`\n",
    "  - The specific model version to use (branch, tag, or commit hash).\n",
    "  - Example: `\"v1.0\"`\n",
    "\n",
    "- **use_fast**: `bool`, default `True`\n",
    "  - Whether to use the fast version of the tokenizer if available.\n",
    "  - Example: `True`\n",
    "\n",
    "- **model_kwargs**: `Dict[str, Any]`, default `None`\n",
    "  - Additional keyword arguments passed to the model during initialization.\n",
    "  - Example: `{\"output_hidden_states\": True}`\n",
    "\n",
    "- **kwargs**: `Any`\n",
    "  - Additional keyword arguments passed to the pipeline components.\n",
    "\n",
    "## Task types\n",
    "\n",
    "The `pipeline()` function supports a wide range of NLP tasks. Here are some of the common tasks:\n",
    "\n",
    "1. **Text Classification**: `text-classification`\n",
    "   - **Purpose**: Classify text into predefined categories.\n",
    "   - **Use Cases**: Sentiment analysis, spam detection, topic classification.\n",
    "\n",
    "2. **Text Generation**: `text-generation`\n",
    "   - **Purpose**: Generate coherent text based on a given prompt.\n",
    "   - **Use Cases**: Creative writing, dialogue generation, story completion.\n",
    "\n",
    "3. **Question Answering**: `question-answering`\n",
    "   - **Purpose**: Answer questions based on a given context.\n",
    "   - **Use Cases**: Building Q&A systems, information retrieval from documents.\n",
    "\n",
    "4. **Named Entity Recognition (NER)**: `ner` (or `token-classification`)\n",
    "   - **Purpose**: Identify and classify named entities (like people, organizations, locations) in text.\n",
    "   - **Use Cases**: Extracting structured information from unstructured text.\n",
    "\n",
    "5. **Summarization**: `summarization`\n",
    "   - **Purpose**: Summarize long pieces of text into shorter, coherent summaries.\n",
    "   - **Use Cases**: Document summarization, news summarization.\n",
    "\n",
    "6. **Translation**: `translation_xx_to_yy` (e.g., `translation_en_to_fr`)\n",
    "   - **Purpose**: Translate text from one language to another.\n",
    "   - **Use Cases**: Language translation, multilingual applications.\n",
    "\n",
    "7. **Fill-Mask**: `fill-mask`\n",
    "   - **Purpose**: Predict masked words in a sentence (useful for masked language modeling).\n",
    "   - **Use Cases**: Language modeling tasks, understanding model predictions.\n",
    "\n",
    "8. **Zero-Shot Classification**: `zero-shot-classification`\n",
    "   - **Purpose**: Classify text into categories without needing training data for those categories.\n",
    "   - **Use Cases**: Flexible and adaptable classification tasks.\n",
    "\n",
    "9. **Feature Extraction**: `feature-extraction`\n",
    "   - **Purpose**: Extract hidden state features from text.\n",
    "   - **Use Cases**: Downstream tasks requiring text representations, such as clustering, similarity, or further custom model training.\n"
   ]
  },
  {
   "cell_type": "markdown",
   "id": "7fabea5e-a025-48ef-aed3-8122449cfddb",
   "metadata": {},
   "source": [
    "### Example 1: Text classification using `pipeline()`\n",
    "\n",
    "In this example, you will use the `pipeline()` function to perform text classification. You will load a pretrained text classification model and use it to classify a sample text.\n",
    "\n",
    "#### Load the text classification model:\n",
    "We initialize the pipeline for the `text-classification` task, specifying the model `\"distilbert-base-uncased-finetuned-sst-2-english\"`. This model is fine-tuned for sentiment analysis.\n",
    "\n",
    "#### Classify the sample text:\n",
    "We use the classifier to classify a sample text: \"Congratulations! You've won a free ticket to the Bahamas. Reply WIN to claim.\" The `classifier` function returns the classification result, which is then printed.\n"
   ]
  },
  {
   "cell_type": "code",
   "execution_count": 19,
   "id": "82791926-b4c2-4326-b0b3-3b80d8856156",
   "metadata": {},
   "outputs": [
    {
     "name": "stdout",
     "output_type": "stream",
     "text": [
      "[{'label': 'POSITIVE', 'score': 0.9997586607933044}]\n"
     ]
    }
   ],
   "source": [
    "# Load a general text classification model\n",
    "classifier = pipeline(\"text-classification\", model=\"distilbert-base-uncased-finetuned-sst-2-english\")\n",
    "\n",
    "# Classify a sample text\n",
    "result = classifier(\"Congratulations! You've won a free ticket to the Bahamas. Reply WIN to claim.\")\n",
    "print(result)"
   ]
  },
  {
   "cell_type": "markdown",
   "id": "29db8243-01e6-4b86-aa02-83a77f155dfc",
   "metadata": {},
   "source": [
    "#### Output\n",
    "\n",
    "The output will be a list of dictionaries, where each dictionary contains:\n",
    "\n",
    "- `label`: The predicted label (e.g., \"POSITIVE\" or \"NEGATIVE\").\n",
    "- `score`: The confidence score for the prediction.\n"
   ]
  },
  {
   "cell_type": "markdown",
   "id": "1c54ec64-cfba-4d2f-91fa-b67b918bc0c7",
   "metadata": {},
   "source": [
    "### Example 2: Language detection using `pipeline()`\n",
    "\n",
    "In this example, you will use the `pipeline()` function to perform language detection. You will load a pretrained language detection model and use it to identify the language of a sample text.\n",
    "\n",
    "#### Load the language detection model:\n",
    "We initialize the pipeline for the `text-classification` task, specifying the model `\"papluca/xlm-roberta-base-language-detection\"`. This model is fine-tuned for language detection.\n",
    "\n",
    "#### Classify the sample text:\n",
    "We use the classifier to detect the language of a sample text: \"Bonjour, comment ça va?\" The `classifier` function returns the classification result, which is then printed.\n"
   ]
  },
  {
   "cell_type": "code",
   "execution_count": 20,
   "id": "a91542d7-ba7e-468a-9a62-47cc3560cad8",
   "metadata": {},
   "outputs": [
    {
     "name": "stdout",
     "output_type": "stream",
     "text": [
      "[{'label': 'fr', 'score': 0.9934879541397095}]\n"
     ]
    }
   ],
   "source": [
    "from transformers import pipeline\n",
    "\n",
    "classifier = pipeline(\"text-classification\", model=\"papluca/xlm-roberta-base-language-detection\")\n",
    "result = classifier(\"Bonjour, comment ça va?\")\n",
    "print(result)"
   ]
  },
  {
   "cell_type": "markdown",
   "id": "b884ff30-9c64-4662-a4bb-f8b721a6f2ab",
   "metadata": {},
   "source": [
    "#### Output\n",
    "The output will be a list of dictionaries, where each dictionary contains:\n",
    "\n",
    "- `label`: The predicted language label (e.g., \"fr\" for French).\n",
    "- `score`: The confidence score for the prediction.\n"
   ]
  },
  {
   "cell_type": "markdown",
   "id": "8a366bdb-074e-4b75-b4b5-e2c6d066fa76",
   "metadata": {},
   "source": [
    "### Example 3: Text generation using `pipeline()`\n",
    "\n",
    "In this example, you will use the `pipeline()` function to perform text generation. You will load a pretrained text generation model and use it to generate text based on a given prompt.\n",
    "\n",
    "#### Initialize the text generation model:\n",
    "We initialize the pipeline for the `text-generation` task, specifying the model `\"gpt2\"`. GPT-2 is a well-known model for text generation tasks.\n"
   ]
  },
  {
   "cell_type": "code",
   "execution_count": 21,
   "id": "2f2a805d-59e1-411a-a94d-5ddb7e6f5a62",
   "metadata": {},
   "outputs": [],
   "source": [
    "# Initialize the text generation pipeline with GPT-2\n",
    "generator = pipeline(\"text-generation\", model=\"gpt2\")"
   ]
  },
  {
   "cell_type": "markdown",
   "id": "def1bb08-3c6c-4048-ac97-cb1f7097769b",
   "metadata": {},
   "source": [
    "#### Generate text based on a given prompt:\n",
    "We use the generator to generate text based on a prompt: \"Once upon a time\". Let's specify `max_length=50`, `truncation=True` to limit the generated text to 50 tokens and `num_return_sequences=1` to generate one sequence. The `generator` function returns the generated text, which is then printed.\n"
   ]
  },
  {
   "cell_type": "code",
   "execution_count": 22,
   "id": "def8b20a-38da-40e2-bc25-728e499da6ae",
   "metadata": {},
   "outputs": [
    {
     "name": "stderr",
     "output_type": "stream",
     "text": [
      "Setting `pad_token_id` to `eos_token_id`:50256 for open-end generation.\n"
     ]
    },
    {
     "name": "stdout",
     "output_type": "stream",
     "text": [
      "Once upon a time, some of us had been told by my own son, that a beautiful bride would come and show us her beauty. There were so many such illusions that many women found it easy to go to a fair and pleasant place with men\n"
     ]
    }
   ],
   "source": [
    "# Generate text based on a given prompt\n",
    "prompt = \"Once upon a time\"\n",
    "result = generator(prompt, max_length=50, num_return_sequences=1, truncation=True)\n",
    "\n",
    "# Print the generated text\n",
    "print(result[0]['generated_text'])"
   ]
  },
  {
   "cell_type": "markdown",
   "id": "8a719290-1d94-4f57-a10e-5a0b78c9543a",
   "metadata": {},
   "source": [
    "#### Output\n",
    "The output will be a list of dictionaries, where each dictionary contains:\n",
    "\n",
    "- `generated_text`: The generated text based on the input prompt.\n"
   ]
  },
  {
   "cell_type": "markdown",
   "id": "69e4d741-d282-4d9a-af7c-b27b5c55e361",
   "metadata": {},
   "source": [
    "### Example 4: Text generation using T5 with `pipeline()`\n",
    "\n",
    "In this example, you will use the `pipeline()` function to perform text-to-text generation with the T5 model. You will load a pretrained T5 model and use it to translate a sentence from English to French based on a given prompt.\n",
    "\n",
    "#### Initialize the text generation model:\n",
    "We initialize the pipeline for the `text2text-generation task, specifying the model \"t5-small\". T5 is a versatile model that can perform various text-to-text generation tasks, including translation.\n"
   ]
  },
  {
   "cell_type": "code",
   "execution_count": null,
   "id": "654f0659-e769-410c-9e08-3261ac898dc5",
   "metadata": {},
   "outputs": [],
   "source": [
    "# Initialize the text generation pipeline with T5\n",
    "generator = pipeline(\"text2text-generation\", model=\"t5-small\")"
   ]
  },
  {
   "cell_type": "markdown",
   "id": "c7d30397-6c98-4c99-91d7-3d857e74e3b7",
   "metadata": {},
   "source": [
    "#### Generate text based on a given prompt:\n",
    "We use the generator to translate a sentence from English to French based on the prompt: \"translate English to French: How are you?\". Let's specify `max_length=50` to limit the generated text to 50 tokens and `num_return_sequences=1` to generate one sequence. The `generator` function returns the translated text, which is then printed.\n"
   ]
  },
  {
   "cell_type": "code",
   "execution_count": null,
   "id": "f018e082-76ff-4966-a2e9-c435b180980e",
   "metadata": {},
   "outputs": [],
   "source": [
    "# Generate text based on a given prompt\n",
    "prompt = \"translate English to French: How are you?\"\n",
    "result = generator(prompt, max_length=50, num_return_sequences=1)\n",
    "\n",
    "# Print the generated text\n",
    "print(result[0]['generated_text'])"
   ]
  },
  {
   "cell_type": "markdown",
   "id": "277f3e27-3635-44fc-8b5b-4cb9f2a1ee71",
   "metadata": {},
   "source": [
    "#### Output\n",
    "The output will be a list of dictionaries, where each dictionary contains:\n",
    "\n",
    "- `generated_text`: The generated text based on the input prompt.\n"
   ]
  },
  {
   "cell_type": "markdown",
   "id": "9bab5162-3cf2-4312-9db3-63a84eac86c2",
   "metadata": {},
   "source": [
    "## Benefits of using `pipeline()`\n",
    "\n",
    "- **Reduced Boilerplate Code**: Simplifies the code required to perform NLP tasks.\n",
    "- **Improved Readability**: Makes code more readable and expressive.\n",
    "- **Time Efficiency**: Saves time by handling model loading, tokenization, inference, and post-processing automatically.\n",
    "- **Consistent API**: Provides a consistent API across different tasks, allowing for easy experimentation and quick prototyping.\n",
    "- **Automatic Framework Handling**: Automatically handles the underlying framework (TensorFlow or PyTorch).\n",
    "\n",
    "## When to use `pipeline()`\n",
    "\n",
    "- **Quick Prototyping**: When you need to quickly prototype an NLP application or experiment with different models.\n",
    "- **Simple Tasks**: When performing simple or common NLP tasks that are well-supported by the `pipeline()` function.\n",
    "- **Deployment**: When deploying NLP models in environments where simplicity and ease of use are crucial.\n",
    "\n",
    "## When to avoid `pipeline()`\n",
    "\n",
    "- **Custom Tasks**: When you need to perform highly customized tasks that are not well-supported by the `pipeline()` function.\n",
    "- **Performance Optimization**: When you need fine-grained control over the model and tokenization process for performance optimization or specific use cases.\n"
   ]
  },
  {
   "cell_type": "markdown",
   "id": "608ba063-881a-4cd3-a75b-b4ed0e041a30",
   "metadata": {},
   "source": [
    "# Exercise: Fill-mask task using BERT with `pipeline()`\n",
    "\n",
    "In this exercise, you will use the `pipeline()` function to perform a fill-mask task using the BERT model. You will load a pretrained BERT model and use it to predict the masked word in a given sentence.\n"
   ]
  },
  {
   "cell_type": "markdown",
   "id": "cd69a781-969e-4fa7-a648-2c492230273b",
   "metadata": {},
   "source": [
    "### Instructions\n",
    "\n",
    "1. **Initialize the fill-mask pipeline** with the BERT model.\n",
    "2. **Create a prompt** with a masked token.\n",
    "3. **Generate text** by filling in the masked token.\n",
    "4. **Print the generated text** with the predictions.\n"
   ]
  },
  {
   "cell_type": "code",
   "execution_count": null,
   "id": "60e270c0-1a0f-4db9-a2fc-81f4074f225e",
   "metadata": {},
   "outputs": [],
   "source": [
    "# TODO"
   ]
  },
  {
   "cell_type": "markdown",
   "id": "fd802ca2-1603-447b-be8d-333e4a3874d5",
   "metadata": {},
   "source": [
    "<details>\n",
    "    <summary>Click here for Solution</summary>\n",
    "\n",
    "```python\n",
    "# Initialize the fill-mask pipeline with BERT\n",
    "fill_mask = pipeline(\"fill-mask\", model=\"bert-base-uncased\")\n",
    "\n",
    "# Generate text by filling in the masked token\n",
    "prompt = \"The capital of France is [MASK].\"\n",
    "result = fill_mask(prompt)\n",
    "\n",
    "# Print the generated text\n",
    "print(result)\n",
    "```\n",
    "\n",
    "</details>\n"
   ]
  },
  {
   "cell_type": "markdown",
   "id": "13f57fba-0df6-446a-8a87-feb0b0113c23",
   "metadata": {},
   "source": [
    "## Authors\n"
   ]
  },
  {
   "cell_type": "markdown",
   "id": "df7e9fa9-9343-4b24-873f-554abb888b87",
   "metadata": {},
   "source": [
    "[Ashutosh Sagar](https://www.linkedin.com/in/ashutoshsagar/) is completing his MS in CS from Dalhousie University. He has previous experience working with Natural Language Processing and as a Data Scientist.\n"
   ]
  },
  {
   "cell_type": "markdown",
   "id": "9e7849ff-bfaf-4f1c-9f89-ef3b29d8bb75",
   "metadata": {},
   "source": [
    "© Copyright IBM Corporation. All rights reserved.\n"
   ]
  }
 ],
 "metadata": {
  "kernelspec": {
   "display_name": "Python 3",
   "language": "python",
   "name": "python3"
  },
  "language_info": {
   "codemirror_mode": {
    "name": "ipython",
    "version": 3
   },
   "file_extension": ".py",
   "mimetype": "text/x-python",
   "name": "python",
   "nbconvert_exporter": "python",
   "pygments_lexer": "ipython3",
   "version": "3.12.3"
  },
  "prev_pub_hash": "580f657bfe790433f8d5be264eaea1f8bbd0547d40345696853f98af925da491"
 },
 "nbformat": 4,
 "nbformat_minor": 4
}
