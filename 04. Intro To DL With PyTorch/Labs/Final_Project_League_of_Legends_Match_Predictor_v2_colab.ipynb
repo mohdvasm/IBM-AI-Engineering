{
  "cells": [
    {
      "cell_type": "markdown",
      "metadata": {
        "id": "a74b8efc-0deb-4383-abf8-37eebc5fa7fc"
      },
      "source": [
        "<img src=\"https://cf-courses-data.s3.us.cloud-object-storage.appdomain.cloud/assets/logos/SN_web_lightmode.png\" height=300 width=300 />\n"
      ]
    },
    {
      "cell_type": "markdown",
      "metadata": {
        "id": "f719b59e-dc36-4efd-8da3-20447366d445"
      },
      "source": [
        "# Final Project: League of Legends Match Predictor\n"
      ]
    },
    {
      "cell_type": "markdown",
      "metadata": {
        "id": "b59d9087-f2a7-4691-8dd9-318b72e25499"
      },
      "source": [
        "### Introduction\n",
        "\n",
        "League of Legends, a popular multiplayer online battle arena (MOBA) game, generates extensive data from matches, providing an excellent opportunity to apply machine learning techniques to real-world scenarios. Perform the following steps to build a logistic regression model aimed at predicting the outcomes of League of Legends matches.\n",
        "\n",
        "Use the [league_of_legends_data_large.csv](https://cf-courses-data.s3.us.cloud-object-storage.appdomain.cloud/rk7VDaPjMp1h5VXS-cUyMg/league-of-legends-data-large.csv) file to perform the tasks.\n",
        "\n",
        "### Step 1: Data Loading and Preprocessing\n",
        "\n",
        "#### Task 1: Load the League of Legends dataset and preprocess it for training.\n",
        "\n",
        "Loading and preprocessing the dataset involves reading the data, splitting it into training and testing sets, and standardizing the features. You will utilize `pandas` for data manipulation, `train_test_split` from `sklearn` for data splitting, and `StandardScaler` for feature scaling.\n",
        "\n",
        "Note: Please ensure all the required libraries are installed and imported.\n",
        "\n",
        "1 .Load the dataset:\n",
        "Use `pd.read_csv()` to load the dataset into a pandas DataFrame.</br>\n",
        "2. Split data into features and target: Separate win (target) and the remaining columns (features).</br>\n",
        "   X = data.drop('win', axis=1)</br>\n",
        "   y = data['win'] </br>\n",
        "3 .Split the Data into Training and Testing Sets:\n",
        "Use `train_test_split()` from `sklearn.model_selection` to divide the data. Set `test_size`=0.2 to allocate 20% for testing and 80% for training, and use `random_state`=42 to ensure reproducibility of the split.</br>\n",
        "4. Standardize the features:\n",
        "Use `StandardScaler()` from sklearn.preprocessing to scale the features.</br>\n",
        "5. Convert to PyTorch tensors:\n",
        "Use `torch.tensor()` to convert the data to PyTorch tensors.\n",
        "\n",
        "#### Exercise 1:\n",
        "\n",
        "Write a code to load the dataset, split it into training and testing sets, standardize the features, and convert the data into PyTorch tensors for use in training a PyTorch model.\n"
      ]
    },
    {
      "cell_type": "markdown",
      "metadata": {
        "id": "72e68c37-7a0e-45c2-a5fd-5d8191ce117c"
      },
      "source": [
        "### Setup\n",
        "Installing required libraries:\n",
        "\n",
        "The following required libraries are not pre-installed in the Skills Network Labs environment. You will need to run the following cell to install them:\n"
      ]
    },
    {
      "cell_type": "code",
      "execution_count": 7,
      "metadata": {
        "id": "de11b888-4436-4bfa-8a93-a0c3de1a4012"
      },
      "outputs": [],
      "source": [
        "# !pip install pandas\n",
        "# !pip install scikit-learn\n",
        "# !pip install torch\n",
        "# !pip install matplotlib\n"
      ]
    },
    {
      "cell_type": "code",
      "execution_count": 2,
      "metadata": {
        "colab": {
          "base_uri": "https://localhost:8080/"
        },
        "id": "eee00d93-8dba-4fee-ab0f-1e672959b7e5",
        "outputId": "f30672e8-7389-4e7a-e6d6-75758d834fca"
      },
      "outputs": [
        {
          "output_type": "stream",
          "name": "stdout",
          "text": [
            "cuda:0\n"
          ]
        }
      ],
      "source": [
        "## Write your code here\n",
        "import torch\n",
        "from torch import nn, optim\n",
        "from torch.utils.data import DataLoader, Dataset\n",
        "import numpy as np\n",
        "import pandas as pd\n",
        "import matplotlib.pyplot as plt\n",
        "from sklearn.preprocessing import StandardScaler\n",
        "from sklearn.model_selection import train_test_split\n",
        "from sklearn.metrics import mean_squared_error, confusion_matrix, classification_report, roc_curve, auc\n",
        "\n",
        "device = torch.device(\"cuda:0\" if torch.cuda.is_available() else \"cpu\")\n",
        "print(device)"
      ]
    },
    {
      "cell_type": "code",
      "source": [
        "# Task 1: Load and Preprocess Data\n",
        "df = pd.read_csv(\"/content/league_of_legends_data_large.csv\")  # Change filename accordingly\n",
        "\n",
        "# Define features and target\n",
        "y = df['win']  # Target variable\n",
        "X = df.drop(columns=['win'])  # Features\n",
        "\n",
        "# Split dataset\n",
        "X_train, X_test, y_train, y_test = train_test_split(X, y, test_size=0.2, random_state=42)\n",
        "\n",
        "# Standardize features\n",
        "scaler = StandardScaler()\n",
        "X_train = scaler.fit_transform(X_train)\n",
        "X_test = scaler.transform(X_test)\n",
        "\n",
        "# Convert to PyTorch tensors\n",
        "X_train = torch.tensor(X_train, dtype=torch.float32).to(device)\n",
        "X_test = torch.tensor(X_test, dtype=torch.float32).to(device)\n",
        "y_train = torch.tensor(y_train.values, dtype=torch.float32).unsqueeze(1).to(device)\n",
        "y_test = torch.tensor(y_test.values, dtype=torch.float32).unsqueeze(1).to(device)\n",
        "\n",
        "X_train.shape, y_train.shape, X_test.shape, y_test.shape"
      ],
      "metadata": {
        "colab": {
          "base_uri": "https://localhost:8080/"
        },
        "id": "62mnT6JwG-Yz",
        "outputId": "b5a7afc9-edea-4f17-de7e-b7a76a93d6de"
      },
      "execution_count": 8,
      "outputs": [
        {
          "output_type": "execute_result",
          "data": {
            "text/plain": [
              "(torch.Size([800, 8]),\n",
              " torch.Size([800, 1]),\n",
              " torch.Size([200, 8]),\n",
              " torch.Size([200, 1]))"
            ]
          },
          "metadata": {},
          "execution_count": 8
        }
      ]
    },
    {
      "cell_type": "markdown",
      "metadata": {
        "id": "fb489ba7-ed44-4fde-bf4a-fa65c7ccccb4"
      },
      "source": [
        "### Step 2: Logistic Regression Model\n",
        "\n",
        "#### Task 2: Implement a logistic regression model using PyTorch.\n",
        "\n",
        "Defining the logistic regression model involves specifying the input dimensions, the forward pass using the sigmoid activation function, and initializing the model, loss function, and optimizer.\n",
        "\n",
        "1 .Define the Logistic Regression Model:</br>\n",
        "  Create a class LogisticRegressionModel that inherits from torch.nn.Module.</br>\n",
        " - In the `__init__()` method, define a linear layer (nn.Linear) to implement the logistic regression model.</br>\n",
        "- The `forward()` method should apply the sigmoid activation function to the output of the linear layer.</br>\n",
        "\n",
        "2.Initialize the Model, Loss Function, and Optimizer:</br>\n",
        "- Set input_dim: Use `X_train.shape[1]` to get the number of features from the training data (X_train).</br>\n",
        "- Initialize the model: Create an instance of the LogisticRegressionModel class  (e.g., `model = LogisticRegressionModel()`)while passing input_dim as a parameter</br>\n",
        "- Loss Function: Use `BCELoss()` from torch.nn (Binary Cross-Entropy Loss).</br>\n",
        "- Optimizer: Initialize the optimizer using `optim.SGD()` with a learning rate of 0.01</br>\n",
        "\n",
        "#### Exercise 2:\n",
        "\n",
        "Define the logistic regression model using PyTorch, specifying the input dimensions and the forward pass. Initialize the model, loss function, and optimizer.\n"
      ]
    },
    {
      "cell_type": "code",
      "execution_count": 9,
      "metadata": {
        "colab": {
          "base_uri": "https://localhost:8080/"
        },
        "id": "a1c9448f-c088-424f-aad9-7aee38f7bc14",
        "outputId": "e48e9365-2a92-4907-db7e-4aebe11943ce"
      },
      "outputs": [
        {
          "output_type": "execute_result",
          "data": {
            "text/plain": [
              "OrderedDict([('linear.weight',\n",
              "              tensor([[ 0.1997,  0.2898, -0.1500, -0.1232, -0.1473,  0.1343, -0.1207,  0.2071]],\n",
              "                     device='cuda:0')),\n",
              "             ('linear.bias', tensor([-0.2240], device='cuda:0'))])"
            ]
          },
          "metadata": {},
          "execution_count": 9
        }
      ],
      "source": [
        "## Task: 2\n",
        "\n",
        "## Write your code here\n",
        "class LogisticRegressionModel(nn.Module):\n",
        "    def __init__(self, input_dim):\n",
        "        super(LogisticRegressionModel, self).__init__()\n",
        "        self.linear = nn.Linear(input_dim, 1)\n",
        "        self.sigmoid = nn.Sigmoid()\n",
        "\n",
        "    def forward(self, x):\n",
        "        return self.sigmoid(self.linear(x))\n",
        "\n",
        "# Initialize model, loss function, and optimizer\n",
        "model = LogisticRegressionModel(X_train.shape[1]).to(device)\n",
        "criterion = nn.BCELoss()\n",
        "optimizer = optim.SGD(model.parameters(), lr=0.01)\n",
        "\n",
        "model.state_dict()"
      ]
    },
    {
      "cell_type": "markdown",
      "metadata": {
        "id": "23b68219-e2a2-406c-a63f-b1e1977e75d7"
      },
      "source": [
        "### Step 3: Model Training\n",
        "\n",
        "#### Task 3: Train the logistic regression model on the dataset.\n",
        "\n",
        "The training loop will run for a specified number of epochs. In each epoch, the model makes predictions, calculates the loss, performs backpropagation, and updates the model parameters.\n",
        "\n",
        "1. Set Number of Epochs:  \n",
        "   - Define the number of epochs for training to 1000.\n",
        "\n",
        "2. Training Loop:  \n",
        "   For each epoch:\n",
        "   - Set the model to training mode using `model.train()`.\n",
        "   - Zero the gradients using `optimizer.zero_grad()`.\n",
        "   - Pass the training data (`X_train`) through the model to get the predictions (`outputs`).\n",
        "   - Calculate the loss using the defined loss function (`criterion`).\n",
        "   - Perform backpropagation with `loss.backward()`.\n",
        "   - Update the model's weights using `optimizer.step()`.\n",
        "\n",
        "3. Print Loss Every 100 Epochs:  \n",
        "   - After every 100 epochs, print the current epoch number and the loss value.\n",
        "\n",
        "4. Model Evaluation:  \n",
        "   - Set the model to evaluation mode using `model.eval()`.\n",
        "   - Use `torch.no_grad()` to ensure no gradients are calculated during evaluation.\n",
        "   - Get predictions on both the training set (`X_train`) and the test set (`X_test`).\n",
        "\n",
        "5. Calculate Accuracy:  \n",
        "   - For both the training and test datasets, compute the accuracy by comparing the predicted values with the true values (`y_train`, `y_test`).\n",
        "   - Use a threshold of 0.5 for classification\n",
        "   \n",
        "6. Print Accuracy:  \n",
        "   - Print the training and test accuracies after the evaluation is complete.\n",
        "\n",
        "#### Exercise 3:\n",
        "\n",
        "Write the code to train the logistic regression model on the dataset. Implement the training loop, making predictions, calculating the loss, performing backpropagation, and updating model parameters. Evaluate the model's accuracy on training and testing sets.\n"
      ]
    },
    {
      "cell_type": "code",
      "execution_count": 10,
      "metadata": {
        "colab": {
          "base_uri": "https://localhost:8080/"
        },
        "id": "d27de934-738d-4256-b7bc-9c9139a47af0",
        "outputId": "23b91f21-5ea6-4500-b9b4-fce87c1842c4"
      },
      "outputs": [
        {
          "output_type": "stream",
          "name": "stdout",
          "text": [
            "Epoch 0: Loss=0.7261, Train Accuracy=0.5000 Test Accuracy=0.4500\n",
            "Epoch 100: Loss=0.7109, Train Accuracy=0.5062 Test Accuracy=0.4400\n",
            "Epoch 200: Loss=0.7011, Train Accuracy=0.5012 Test Accuracy=0.4450\n",
            "Epoch 300: Loss=0.6951, Train Accuracy=0.5100 Test Accuracy=0.4500\n",
            "Epoch 400: Loss=0.6913, Train Accuracy=0.5225 Test Accuracy=0.4650\n",
            "Epoch 500: Loss=0.6890, Train Accuracy=0.5387 Test Accuracy=0.5050\n",
            "Epoch 600: Loss=0.6875, Train Accuracy=0.5387 Test Accuracy=0.5000\n",
            "Epoch 700: Loss=0.6867, Train Accuracy=0.5450 Test Accuracy=0.5000\n",
            "Epoch 800: Loss=0.6861, Train Accuracy=0.5400 Test Accuracy=0.5050\n",
            "Epoch 900: Loss=0.6858, Train Accuracy=0.5450 Test Accuracy=0.5150\n"
          ]
        }
      ],
      "source": [
        "epochs = 1000\n",
        "for epoch in range(epochs):\n",
        "    model.train()\n",
        "    optimizer.zero_grad()\n",
        "    predictions = model(X_train)\n",
        "    loss = criterion(predictions, y_train)\n",
        "    loss.backward()\n",
        "    optimizer.step()\n",
        "\n",
        "    # Evaluate accuracy every 100 epochs\n",
        "    if epoch % 100 == 0:\n",
        "        with torch.inference_mode():\n",
        "\n",
        "            # Convert predictions to 0 or 1 for accuracy calculation\n",
        "            y_pred_train = (predictions >= 0.5).float()\n",
        "            train_accuracy = (y_pred_train.eq(y_train).sum().item()) / y_train.size(0)\n",
        "\n",
        "            model.eval()\n",
        "            y_pred_test = (model(X_test) >= 0.5).float()\n",
        "            test_accuracy = (y_pred_test.eq(y_test).sum().item()) / y_test.size(0)\n",
        "            print(f\"Epoch {epoch}: Loss={loss.item():.4f}, Train Accuracy={train_accuracy:.4f} Test Accuracy={test_accuracy:.4f}\")"
      ]
    },
    {
      "cell_type": "markdown",
      "metadata": {
        "id": "bed998e3-ee78-4156-8505-5ee583b30039"
      },
      "source": [
        "### Step 4: Model Optimization and Evaluation\n",
        "\n",
        "#### Task 4: Implement optimization techniques and evaluate the model's performance.\n",
        "\n",
        "Optimization techniques such as L2 regularization (Ridge Regression) help in preventing overfitting. The model is retrained with these optimizations, and its performance is evaluated on both training and testing sets.\n",
        "\n",
        "**Weight Decay** :In the context of machine learning and specifically in optimization algorithms, weight_decay is a parameter used to apply L2 regularization to the model's parameters (weights). It helps prevent the model from overfitting by penalizing large weight values, thereby encouraging the model to find simpler solutions.To use L2 regularization, you need to modify the optimizer by setting the weight_decay parameter. The weight_decay parameter in the optimizer adds the L2 regularization term during training.\n",
        "For example, when you initialize the optimizer with optim.SGD(model.parameters(), lr=0.01, weight_decay=0.01), the weight_decay=0.01 term applies L2 regularization with a strength of 0.01.\n",
        "\n",
        "1. Set Up the Optimizer with L2 Regularization:\n",
        "   - Modify the optimizer to include `weight_decay` for L2 regularization.\n",
        "   - Example:\n",
        "     ```python\n",
        "     optimizer = optim.SGD(model.parameters(), lr=0.01, weight_decay=0.01)\n",
        "     ```\n",
        "2. Train the Model with L2 Regularization:\n",
        "    - Follow the same steps as before but use the updated optimizer with regularization during training.\n",
        "    - Use epochs=1000\n",
        "   \n",
        "3. Evaluate the Optimized Model:\n",
        "   - After training, evaluate the model on both the training and test datasets.\n",
        "   - Compute the accuracy for both sets by comparing the model's predictions to the true labels (`y_train` and `y_test`).\n",
        "\n",
        "4. Calculate and Print the Accuracy:\n",
        "   - Use a threshold of 0.5 to determine whether the model's predictions are class 0 or class 1.\n",
        "   - Print the training accuracy and test accuracy  after evaluation.\n",
        "\n",
        "\n",
        "#### Exercise 4:\n",
        "\n",
        "Implement optimization techniques like L2 regularization and retrain the model. Evaluate the performance of the optimized model on both training and testing sets.\n"
      ]
    },
    {
      "cell_type": "code",
      "execution_count": 11,
      "metadata": {
        "colab": {
          "base_uri": "https://localhost:8080/"
        },
        "id": "6619c7fd-4ec5-4d9c-9b08-690d403c0589",
        "outputId": "1c818295-2c93-404b-e147-1779d21d4d2d"
      },
      "outputs": [
        {
          "output_type": "execute_result",
          "data": {
            "text/plain": [
              "OrderedDict([('linear.weight',\n",
              "              tensor([[-0.1881, -0.3324,  0.3427, -0.0870,  0.3045,  0.2993, -0.2008, -0.2945]],\n",
              "                     device='cuda:0')),\n",
              "             ('linear.bias', tensor([0.1292], device='cuda:0'))])"
            ]
          },
          "metadata": {},
          "execution_count": 11
        }
      ],
      "source": [
        "## Write your code here\n",
        "model = LogisticRegressionModel(X_train.shape[1]).to(device)\n",
        "criterion = nn.BCELoss()\n",
        "optimizer = optim.SGD(model.parameters(), lr=0.01, weight_decay=0.01)\n",
        "\n",
        "model.state_dict()"
      ]
    },
    {
      "cell_type": "code",
      "source": [
        "epochs = 1000\n",
        "for epoch in range(epochs):\n",
        "    model.train()\n",
        "    optimizer.zero_grad()\n",
        "    predictions = model(X_train)\n",
        "    loss = criterion(predictions, y_train)\n",
        "    loss.backward()\n",
        "    optimizer.step()\n",
        "\n",
        "    # Evaluate accuracy every 100 epochs\n",
        "    if epoch % 100 == 0:\n",
        "        with torch.inference_mode():\n",
        "\n",
        "            # Convert predictions to 0 or 1 for accuracy calculation\n",
        "            y_pred_train = (predictions >= 0.5).float()\n",
        "            train_accuracy = (y_pred_train.eq(y_train).sum().item()) / y_train.size(0)\n",
        "\n",
        "            model.eval()\n",
        "            y_pred_test = (model(X_test) >= 0.5).float()\n",
        "            test_accuracy = (y_pred_test.eq(y_test).sum().item()) / y_test.size(0)\n",
        "            print(f\"Epoch {epoch}: Loss={loss.item():.4f}, Train Accuracy={train_accuracy:.4f} Test Accuracy={test_accuracy:.4f}\")"
      ],
      "metadata": {
        "colab": {
          "base_uri": "https://localhost:8080/"
        },
        "id": "Q1Ii94k7VFNa",
        "outputId": "a9e542b6-8d8b-486d-c955-2414077a5784"
      },
      "execution_count": 12,
      "outputs": [
        {
          "output_type": "stream",
          "name": "stdout",
          "text": [
            "Epoch 0: Loss=0.7665, Train Accuracy=0.4963 Test Accuracy=0.5750\n",
            "Epoch 100: Loss=0.7353, Train Accuracy=0.4938 Test Accuracy=0.5550\n",
            "Epoch 200: Loss=0.7154, Train Accuracy=0.5050 Test Accuracy=0.5550\n",
            "Epoch 300: Loss=0.7032, Train Accuracy=0.5075 Test Accuracy=0.5400\n",
            "Epoch 400: Loss=0.6959, Train Accuracy=0.5175 Test Accuracy=0.5500\n",
            "Epoch 500: Loss=0.6916, Train Accuracy=0.5275 Test Accuracy=0.5500\n",
            "Epoch 600: Loss=0.6890, Train Accuracy=0.5375 Test Accuracy=0.5200\n",
            "Epoch 700: Loss=0.6875, Train Accuracy=0.5513 Test Accuracy=0.5300\n",
            "Epoch 800: Loss=0.6866, Train Accuracy=0.5513 Test Accuracy=0.5150\n",
            "Epoch 900: Loss=0.6860, Train Accuracy=0.5513 Test Accuracy=0.5200\n"
          ]
        }
      ]
    },
    {
      "cell_type": "markdown",
      "metadata": {
        "id": "24751f9a-b8ea-4034-b887-c44ee649bec2"
      },
      "source": [
        "### Step 5: Visualization and Interpretation\n",
        "\n",
        "Visualization tools like confusion matrices and ROC curves provide insights into the model's performance. The confusion matrix helps in understanding the classification accuracy, while the ROC curve illustrates the trade-off between sensitivity and specificity.\n",
        "\n",
        "Confusion Matrix : A Confusion Matrix is a fundamental tool used in classification problems to evaluate the performance of a model. It provides a matrix showing the number of correct and incorrect predictions made by the model, categorized by the actual and predicted classes.\n",
        "Where\n",
        "-  True Positive (TP): Correctly predicted positive class (class 1).\n",
        "- True Negative (TN): Correctly predicted negative class (class 0).\n",
        "- False Positive (FP): Incorrectly predicted as positive (class 1), but the actual class is negative (class 0). This is also called a Type I error.\n",
        "- False Negative (FN): Incorrectly predicted as negative (class 0), but the actual class is positive (class 1). This is also called a Type II error.\n",
        "\n",
        "ROC Curve (Receiver Operating Characteristic Curve):\n",
        "The ROC Curve is a graphical representation used to evaluate the performance of a binary classification model across all classification thresholds. It plots two metrics:\n",
        "- True Positive Rate (TPR) or Recall (Sensitivity)-It is the proportion of actual positive instances (class 1) that were correctly classified as positive by the model.\n",
        "- False Positive Rate (FPR)-It is the proportion of actual negative instances (class 0) that were incorrectly classified as positive by the model.\n",
        "  \n",
        "AUC:\n",
        "AUC stands for Area Under the Curve and is a performance metric used to evaluate the quality of a binary classification model. Specifically, it refers to the area under the ROC curve (Receiver Operating Characteristic curve), which plots the True Positive Rate (TPR) versus the False Positive Rate (FPR) for different threshold values.\n",
        "\n",
        "Classification Report:\n",
        "A Classification Report is a summary of various classification metrics, which are useful for evaluating the performance of a classifier on the given dataset.\n",
        "\n",
        "#### Exercise 5:\n",
        "\n",
        "Write code to visualize the model's performance using confusion matrices and ROC curves. Generate classification reports to evaluate precision, recall, and F1-score. Retrain the model with L2 regularization and evaluate the performance.\n"
      ]
    },
    {
      "cell_type": "code",
      "execution_count": 13,
      "metadata": {
        "colab": {
          "base_uri": "https://localhost:8080/",
          "height": 1000
        },
        "id": "3b4539c5-65f0-4f6a-b452-037cc765fd75",
        "outputId": "400d872d-a9f5-4a92-e8e5-9d6c782d3cc5"
      },
      "outputs": [
        {
          "output_type": "display_data",
          "data": {
            "text/plain": [
              "<Figure size 600x600 with 2 Axes>"
            ],
            "image/png": "[encoded data removed]"
          },
          "metadata": {}
        },
        {
          "output_type": "stream",
          "name": "stdout",
          "text": [
            "Classification Report:\n",
            "               precision    recall  f1-score   support\n",
            "\n",
            "        Loss       0.49      0.39      0.44        95\n",
            "         Win       0.54      0.64      0.58       105\n",
            "\n",
            "    accuracy                           0.52       200\n",
            "   macro avg       0.51      0.51      0.51       200\n",
            "weighted avg       0.52      0.52      0.51       200\n",
            "\n"
          ]
        },
        {
          "output_type": "display_data",
          "data": {
            "text/plain": [
              "<Figure size 640x480 with 1 Axes>"
            ],
            "image/png": "[encoded data removed]"
          },
          "metadata": {}
        }
      ],
      "source": [
        "## Write your code here\n",
        "\n",
        "import matplotlib.pyplot as plt\n",
        "from sklearn.metrics import confusion_matrix, classification_report, roc_curve, auc\n",
        "import itertools\n",
        "\n",
        "# Visualize the confusion matrix\n",
        "#Change the variable names as used in your code\n",
        "y_pred_test_labels = (y_pred_test.to('cpu') > 0.5).float()\n",
        "cm = confusion_matrix(y_test.to('cpu'), y_pred_test_labels)\n",
        "\n",
        "plt.figure(figsize=(6, 6))\n",
        "plt.imshow(cm, interpolation='nearest', cmap=plt.cm.Blues)\n",
        "plt.title('Confusion Matrix')\n",
        "plt.colorbar()\n",
        "tick_marks = range(2)\n",
        "plt.xticks(tick_marks, ['Loss', 'Win'], rotation=45)\n",
        "plt.yticks(tick_marks, ['Loss', 'Win'])\n",
        "\n",
        "thresh = cm.max() / 2\n",
        "for i, j in itertools.product(range(cm.shape[0]), range(cm.shape[1])):\n",
        "    plt.text(j, i, cm[i, j], horizontalalignment=\"center\", color=\"white\" if cm[i, j] > thresh else \"black\")\n",
        "\n",
        "plt.tight_layout()\n",
        "plt.ylabel('True label')\n",
        "plt.xlabel('Predicted label')\n",
        "plt.show()\n",
        "\n",
        "# Print classification report\n",
        "print(\"Classification Report:\\n\", classification_report(y_test.to('cpu'), y_pred_test_labels, target_names=['Loss', 'Win']))\n",
        "\n",
        "# Plot ROC curve\n",
        "fpr, tpr, thresholds = roc_curve(y_test.to('cpu'), y_pred_test.to('cpu'))\n",
        "roc_auc = auc(fpr, tpr)\n",
        "\n",
        "plt.figure()\n",
        "plt.plot(fpr, tpr, color='darkorange', lw=2, label=f'ROC curve (area = {roc_auc:.2f})')\n",
        "plt.plot([0, 1], [0, 1], color='navy', lw=2, linestyle='--')\n",
        "plt.xlim([0.0, 1.0])\n",
        "plt.ylim([0.0, 1.05])\n",
        "plt.xlabel('False Positive Rate')\n",
        "plt.ylabel('True Positive Rate')\n",
        "plt.title('Receiver Operating Characteristic (ROC)')\n",
        "plt.legend(loc=\"lower right\")\n",
        "plt.show()"
      ]
    },
    {
      "cell_type": "markdown",
      "metadata": {
        "id": "672e4174-126d-45b5-a70d-289ee18cf0a2"
      },
      "source": [
        "Double-click <b>here</b> for the Hint.\n",
        "<!--\n",
        "\n",
        "#Change the name of variables as per your code\n",
        "import matplotlib.pyplot as plt\n",
        "from sklearn.metrics import confusion_matrix, classification_report, roc_curve, auc\n",
        "import itertools\n",
        "\n",
        "# Visualize the confusion matrix\n",
        "#Change the variable names as used in your code\n",
        "y_pred_test_labels = (y_pred_test > 0.5).float()\n",
        "cm = confusion_matrix(y_test, y_pred_test_labels)\n",
        "\n",
        "plt.figure(figsize=(6, 6))\n",
        "plt.imshow(cm, interpolation='nearest', cmap=plt.cm.Blues)\n",
        "plt.title('Confusion Matrix')\n",
        "plt.colorbar()\n",
        "tick_marks = range(2)\n",
        "plt.xticks(tick_marks, ['Loss', 'Win'], rotation=45)\n",
        "plt.yticks(tick_marks, ['Loss', 'Win'])\n",
        "\n",
        "thresh = cm.max() / 2\n",
        "for i, j in itertools.product(range(cm.shape[0]), range(cm.shape[1])):\n",
        "    plt.text(j, i, cm[i, j], horizontalalignment=\"center\", color=\"white\" if cm[i, j] > thresh else \"black\")\n",
        "\n",
        "plt.tight_layout()\n",
        "plt.ylabel('True label')\n",
        "plt.xlabel('Predicted label')\n",
        "plt.show()\n",
        "\n",
        "# Print classification report\n",
        "print(\"Classification Report:\\n\", classification_report(y_test, y_pred_test_labels, target_names=['Loss', 'Win']))\n",
        "\n",
        "# Plot ROC curve\n",
        "fpr, tpr, thresholds = roc_curve(y_test, y_pred_test)\n",
        "roc_auc = auc(fpr, tpr)\n",
        "\n",
        "plt.figure()\n",
        "plt.plot(fpr, tpr, color='darkorange', lw=2, label=f'ROC curve (area = {roc_auc:.2f})')\n",
        "plt.plot([0, 1], [0, 1], color='navy', lw=2, linestyle='--')\n",
        "plt.xlim([0.0, 1.0])\n",
        "plt.ylim([0.0, 1.05])\n",
        "plt.xlabel('False Positive Rate')\n",
        "plt.ylabel('True Positive Rate')\n",
        "plt.title('Receiver Operating Characteristic (ROC)')\n",
        "plt.legend(loc=\"lower right\")\n",
        "plt.show()\n",
        "-->\n"
      ]
    },
    {
      "cell_type": "markdown",
      "metadata": {
        "id": "4b983787-2b9b-4d09-bfd8-95b8f783c83a"
      },
      "source": [
        "### Step 6: Model Saving and Loading\n",
        "\n",
        "#### Task 6: Save and load the trained model.\n",
        "\n",
        "This task demonstrates the techniques to persist a trained model using `torch.save` and reload it using `torch.load`. Evaluating the loaded model ensures that it retains its performance, making it practical for deployment in real-world applications.\n",
        "\n",
        "1. Saving the Model:\n",
        "- Save the model's learned weights and biases using torch.save().( e.g. , torch.save(model.state_dict(), 'your_model_name.pth'))\n",
        "- Saving only the state dictionary (model parameters) is preferred because it’s more flexible and efficient than saving the entire model object.\n",
        "\n",
        "2. Loading the Model:\n",
        "- Create a new model instance (e.g., `model = LogisticRegressionModel()`) and load the saved parameters. ( e.g. , `model.load_state_dict(torch.load('your_model_name.pth'))`)`.\n",
        "\n",
        "3. Evaluating the Loaded Model:\n",
        "   - After loading, set the model to evaluation mode by calling `model.eval()\n",
        "   - After loading the model, evaluate it again on the test dataset to make sure it performs similarly to when it was first trained..Now evaluate it on the test data.\n",
        "   - Use `torch.no_grad()` to ensure that no gradients are computed.\n",
        "\n",
        "#### Exercise 6:\n",
        "\n",
        "Write code to save the trained model and reload it. Ensure the loaded model performs consistently by evaluating it on the test dataset.\n"
      ]
    },
    {
      "cell_type": "code",
      "execution_count": 14,
      "metadata": {
        "id": "a1cdb5c1-9b4f-4f1b-9d23-ad8ed4cdebd2"
      },
      "outputs": [],
      "source": [
        "## Write your code here\n",
        "# Save the model\n",
        "torch.save(model.state_dict(), 'model.pth')"
      ]
    },
    {
      "cell_type": "code",
      "source": [
        "# Load the model\n",
        "model = LogisticRegressionModel(X_train.shape[1]).to(device)\n",
        "model.load_state_dict(torch.load('model.pth'))\n",
        "\n",
        "# Ensure the loaded model is in evaluation mode\n",
        "model.eval()\n",
        "\n",
        "# Evaluate the loaded model\n",
        "with torch.inference_mode():\n",
        "  y_pred_test = model(X_test)\n",
        "  y_pred_test_labels = (y_pred_test >= 0.5).float()\n",
        "  test_accuracy = (y_pred_test_labels.eq(y_test).sum().item()) / y_test.size(0)\n",
        "  print(f\"Test Accuracy: {test_accuracy:.4f}\")"
      ],
      "metadata": {
        "colab": {
          "base_uri": "https://localhost:8080/"
        },
        "id": "1tQYYft5W7tA",
        "outputId": "5bf1507a-e2e1-4270-a7f5-975f331c199b"
      },
      "execution_count": 15,
      "outputs": [
        {
          "output_type": "stream",
          "name": "stdout",
          "text": [
            "Test Accuracy: 0.5200\n"
          ]
        },
        {
          "output_type": "stream",
          "name": "stderr",
          "text": [
            "<ipython-input-15-dec1d9dba775>:3: FutureWarning: You are using `torch.load` with `weights_only=False` (the current default value), which uses the default pickle module implicitly. It is possible to construct malicious pickle data which will execute arbitrary code during unpickling (See https://github.com/pytorch/pytorch/blob/main/SECURITY.md#untrusted-models for more details). In a future release, the default value for `weights_only` will be flipped to `True`. This limits the functions that could be executed during unpickling. Arbitrary objects will no longer be allowed to be loaded via this mode unless they are explicitly allowlisted by the user via `torch.serialization.add_safe_globals`. We recommend you start setting `weights_only=True` for any use case where you don't have full control of the loaded file. Please open an issue on GitHub for any issues related to this experimental feature.\n",
            "  model.load_state_dict(torch.load('model.pth'))\n"
          ]
        }
      ]
    },
    {
      "cell_type": "markdown",
      "metadata": {
        "id": "edd4d603-e38f-43eb-bd67-d30ce00d757b"
      },
      "source": [
        "### Step 7: Hyperparameter Tuning\n",
        "\n",
        "#### Task 7: Perform hyperparameter tuning to find the best learning rate.\n",
        "\n",
        "By testing different learning rates, you will identify the optimal rate that provides the best test accuracy. This fine-tuning is crucial for enhancing model performance .\n",
        "1. Define Learning Rates:\n",
        "   - Choose these learning rates to test ,[0.01, 0.05, 0.1]\n",
        "\n",
        "2. Reinitialize the Model for Each Learning Rate:\n",
        "  - For each learning rate, you’ll need to reinitialize the model and optimizer e.g.(`torch.optim.SGD(model.parameters(), lr=lr)`).\n",
        "   - Each new learning rate requires reinitializing the model since the optimizer and its parameters are linked to the learning rate.\n",
        "\n",
        "3. Train the Model for Each Learning Rate:\n",
        "  - Train the model for a fixed number of epochs (e.g., 50 or 100 epochs) for each learning rate, and compute the accuracy on the test set.\n",
        "  - Track the test accuracy for each learning rate and identify which one yields the best performance.\n",
        "\n",
        "4. Evaluate and Compare:\n",
        "  - After training with each learning rate, compare the test accuracy for each configuration.\n",
        "   - Report the learning rate that gives the highest test accuracy\n",
        "\n",
        "#### Exercise 7:\n",
        "\n",
        "Perform hyperparameter tuning to find the best learning rate. Retrain the model for each learning rate and evaluate its performance to identify the optimal rate.\n"
      ]
    },
    {
      "cell_type": "code",
      "execution_count": 16,
      "metadata": {
        "colab": {
          "base_uri": "https://localhost:8080/"
        },
        "id": "cb97fb79-7161-4fba-907a-894843d5a969",
        "outputId": "20f1a899-5ed1-4aa2-be5b-19a1d3f0b94f"
      },
      "outputs": [
        {
          "output_type": "stream",
          "name": "stdout",
          "text": [
            "\n",
            "\n",
            "Training: 0, Learning rate: 0.01\n",
            "Epoch 0: Loss=0.7392, Train Accuracy=0.5075 Test Accuracy=0.5350\n",
            "Epoch 100: Loss=0.7191, Train Accuracy=0.5062 Test Accuracy=0.5200\n",
            "Epoch 200: Loss=0.7063, Train Accuracy=0.5062 Test Accuracy=0.5250\n",
            "Epoch 300: Loss=0.6983, Train Accuracy=0.5212 Test Accuracy=0.5250\n",
            "Epoch 400: Loss=0.6933, Train Accuracy=0.5337 Test Accuracy=0.5450\n",
            "Epoch 500: Loss=0.6903, Train Accuracy=0.5337 Test Accuracy=0.5350\n",
            "Epoch 600: Loss=0.6884, Train Accuracy=0.5350 Test Accuracy=0.5550\n",
            "Epoch 700: Loss=0.6872, Train Accuracy=0.5437 Test Accuracy=0.5300\n",
            "Epoch 800: Loss=0.6865, Train Accuracy=0.5525 Test Accuracy=0.5300\n",
            "Epoch 900: Loss=0.6861, Train Accuracy=0.5475 Test Accuracy=0.5200\n",
            "\n",
            "\n",
            "Training: 1, Learning rate: 0.05\n",
            "Epoch 0: Loss=0.7233, Train Accuracy=0.4763 Test Accuracy=0.5100\n",
            "Epoch 100: Loss=0.6881, Train Accuracy=0.5288 Test Accuracy=0.4750\n",
            "Epoch 200: Loss=0.6855, Train Accuracy=0.5487 Test Accuracy=0.4900\n",
            "Epoch 300: Loss=0.6853, Train Accuracy=0.5463 Test Accuracy=0.5100\n",
            "Epoch 400: Loss=0.6853, Train Accuracy=0.5450 Test Accuracy=0.5050\n",
            "Epoch 500: Loss=0.6853, Train Accuracy=0.5437 Test Accuracy=0.5050\n",
            "Epoch 600: Loss=0.6853, Train Accuracy=0.5437 Test Accuracy=0.5050\n",
            "Epoch 700: Loss=0.6853, Train Accuracy=0.5437 Test Accuracy=0.5050\n",
            "Epoch 800: Loss=0.6853, Train Accuracy=0.5437 Test Accuracy=0.5050\n",
            "Epoch 900: Loss=0.6853, Train Accuracy=0.5437 Test Accuracy=0.5050\n",
            "\n",
            "\n",
            "Training: 2, Learning rate: 0.1\n",
            "Epoch 0: Loss=0.7172, Train Accuracy=0.5075 Test Accuracy=0.4850\n",
            "Epoch 100: Loss=0.6854, Train Accuracy=0.5363 Test Accuracy=0.4900\n",
            "Epoch 200: Loss=0.6853, Train Accuracy=0.5425 Test Accuracy=0.5050\n",
            "Epoch 300: Loss=0.6853, Train Accuracy=0.5437 Test Accuracy=0.5100\n",
            "Epoch 400: Loss=0.6853, Train Accuracy=0.5437 Test Accuracy=0.5050\n",
            "Epoch 500: Loss=0.6853, Train Accuracy=0.5437 Test Accuracy=0.5050\n",
            "Epoch 600: Loss=0.6853, Train Accuracy=0.5437 Test Accuracy=0.5050\n",
            "Epoch 700: Loss=0.6853, Train Accuracy=0.5437 Test Accuracy=0.5050\n",
            "Epoch 800: Loss=0.6853, Train Accuracy=0.5437 Test Accuracy=0.5050\n",
            "Epoch 900: Loss=0.6853, Train Accuracy=0.5437 Test Accuracy=0.5050\n"
          ]
        }
      ],
      "source": [
        "## Write your code here\n",
        "lr_rates = [0.01, 0.05, 0.1]\n",
        "epochs = 1000\n",
        "\n",
        "for idx, lr_rate in enumerate(lr_rates):\n",
        "\n",
        "  print(f\"\\n\\nTraining: {idx}, Learning rate: {lr_rate}\")\n",
        "\n",
        "  model = LogisticRegressionModel(X_train.shape[1]).to(device)\n",
        "  criterion = nn.BCELoss()\n",
        "  optimizer = optim.SGD(model.parameters(), lr=lr_rate, weight_decay=0.01)\n",
        "\n",
        "  for epoch in range(epochs):\n",
        "      model.train()\n",
        "      optimizer.zero_grad()\n",
        "      predictions = model(X_train)\n",
        "      loss = criterion(predictions, y_train)\n",
        "      loss.backward()\n",
        "      optimizer.step()\n",
        "\n",
        "      # Evaluate accuracy every 100 epochs\n",
        "      if epoch % 100 == 0:\n",
        "          with torch.inference_mode():\n",
        "\n",
        "              # Convert predictions to 0 or 1 for accuracy calculation\n",
        "              y_pred_train = (predictions >= 0.5).float()\n",
        "              train_accuracy = (y_pred_train.eq(y_train).sum().item()) / y_train.size(0)\n",
        "\n",
        "              model.eval()\n",
        "              y_pred_test = (model(X_test) >= 0.5).float()\n",
        "              test_accuracy = (y_pred_test.eq(y_test).sum().item()) / y_test.size(0)\n",
        "              print(f\"Epoch {epoch}: Loss={loss.item():.4f}, Train Accuracy={train_accuracy:.4f} Test Accuracy={test_accuracy:.4f}\")"
      ]
    },
    {
      "cell_type": "markdown",
      "metadata": {
        "id": "f7ae60c9-6d8e-4917-aa63-5f063f4f1cdc"
      },
      "source": [
        "### Step 8: Feature Importance\n",
        "\n",
        "#### Task 8: Evaluate feature importance to understand the impact of each feature on the prediction.\n",
        "\n",
        "The code to evaluate feature importance to understand the impact of each feature on the prediction.\n",
        "\n",
        " 1.Extracting Model Weights:\n",
        "  - The weights of the logistic regression model represent the importance of each feature in making predictions. These weights are stored in the model's linear layer (`model.linear.weight`).\n",
        " - You can extract the weights using `model.linear.weight.data.numpy()` and flatten the resulting tensor to get a 1D array of feature importances.\n",
        "\n",
        "2.Creating a DataFrame:\n",
        " - Create a pandas DataFrame with two columns: one for the feature names and the other for their corresponding importance values (i.e., the learned weights).\n",
        " - Ensure the features are aligned with their names in your dataset (e.g., `X_train.columns).\n",
        "\n",
        "3. Sorting and Plotting Feature Importance:\n",
        "  - Sort the features based on the absolute value of their importance (weights) to identify the most impactful features.\n",
        "  - Use a bar plot (via `matplotlib`) to visualize the sorted feature importances, with the feature names on the y-axis and importance values on the x-axis.\n",
        "\n",
        "4. Interpreting the Results:\n",
        "  - Larger absolute weights indicate more influential features. Positive weights suggest a positive correlation with the outcome (likely to predict the positive class), while negative weights suggest the opposite.\n",
        "\n",
        "#### Exercise 8:\n",
        "\n",
        "Evaluate feature importance by extracting the weights of the linear layer and creating a DataFrame to display the importance of each feature. Visualize the feature importance using a bar plot.\n"
      ]
    },
    {
      "cell_type": "code",
      "execution_count": 22,
      "metadata": {
        "colab": {
          "base_uri": "https://localhost:8080/",
          "height": 713
        },
        "id": "db47abab-fb7b-42af-8151-04ae529b532a",
        "outputId": "fe1cd7e2-f9c6-4ebd-ecbe-ba60f811e610"
      },
      "outputs": [
        {
          "output_type": "stream",
          "name": "stdout",
          "text": [
            "Weights: [ 0.12611817 -0.00445964 -0.01299391  0.16853996 -0.00707707  0.10214223\n",
            " -0.0326108  -0.01763816], Features: Index(['kills', 'deaths', 'assists', 'gold_earned', 'cs', 'wards_placed',\n",
            "       'wards_killed', 'damage_dealt'],\n",
            "      dtype='object')\n",
            "        Feature  Importance\n",
            "3   gold_earned    0.168540\n",
            "0         kills    0.126118\n",
            "5  wards_placed    0.102142\n",
            "1        deaths   -0.004460\n",
            "4            cs   -0.007077\n",
            "2       assists   -0.012994\n",
            "7  damage_dealt   -0.017638\n",
            "6  wards_killed   -0.032611\n"
          ]
        },
        {
          "output_type": "display_data",
          "data": {
            "text/plain": [
              "<Figure size 1000x500 with 1 Axes>"
            ],
            "image/png": "[encoded data removed]"
          },
          "metadata": {}
        }
      ],
      "source": [
        "## Write your code here\n",
        "\n",
        "import pandas as pd\n",
        "import matplotlib.pyplot as plt\n",
        "\n",
        "# Extract the weights of the linear layer\n",
        "## Write your code here\n",
        "weights = model.to('cpu').linear.weight.data.numpy().flatten()\n",
        "features = X.columns\n",
        "print(f\"Weights: {weights}, Features: {features}\")\n",
        "\n",
        "# Create a DataFrame for feature importance\n",
        "## Write your code here\n",
        "feature_importance_df = pd.DataFrame({'Feature': features, 'Importance': weights})\n",
        "feature_importance_df = feature_importance_df.sort_values(by='Importance', ascending=False)\n",
        "print(feature_importance_df)\n",
        "\n",
        "plt.figure(figsize=(10,5))\n",
        "plt.barh(feature_importance_df['Feature'], feature_importance_df['Importance'])\n",
        "plt.xlabel('Importance')\n",
        "plt.ylabel('Feature')\n",
        "plt.title('Feature Importance')\n",
        "plt.show()\n"
      ]
    },
    {
      "cell_type": "markdown",
      "metadata": {
        "id": "165673c2-89be-45cf-8239-1fc4544ae853"
      },
      "source": [
        "Double-click <b>here</b> for the Hint\n",
        "<!--\n",
        "#Use the following code to extract the weight and create dataframe\n",
        "#Change the name of variables per your code\n",
        "\n",
        "Extract the weights of the linear layer:\n",
        "weights = model.linear.weight.data.numpy().flatten()\n",
        "features = X.columns\n",
        "Create a DataFrame for feature importance:\n",
        "feature_importance = pd.DataFrame({'Feature': features, 'Importance': weights})\n",
        "feature_importance = feature_importance.sort_values(by='Importance', ascending=False)\n",
        "print(feature_importance)\n",
        "Plot feature importance plt.figure(figsize=(10, 6))\n",
        "plt.bar(feature_importance['Feature'], feature_importance['Importance'])\n",
        "plt.xlabel('Features')\n",
        "plt.ylabel('Importance')\n",
        "plt.title('Feature Importance')\n",
        "plt.xticks(rotation=45)\n",
        "plt.show()\n",
        "-->\n"
      ]
    },
    {
      "cell_type": "markdown",
      "metadata": {
        "id": "04b85e8a-9c1b-49f8-befc-f8b3b5799a14"
      },
      "source": [
        "#### Conclusion:\n",
        "\n",
        "Congratulations on completing the project! In this final project, you built a logistic regression model to predict the outcomes of League of Legends matches based on various in-game statistics. This comprehensive project involved several key steps, including data loading and preprocessing, model implementation, training, optimization, evaluation, visualization, model saving and loading, hyperparameter tuning, and feature importance analysis. This project provided hands-on experience with the complete workflow of developing a machine learning model for binary classification tasks using PyTorch.\n",
        "\n",
        "© Copyright IBM Corporation. All rights reserved.\n"
      ]
    },
    {
      "cell_type": "code",
      "execution_count": null,
      "metadata": {
        "id": "bb47ab38-c71b-4684-b444-04d353b3961b"
      },
      "outputs": [],
      "source": []
    }
  ],
  "metadata": {
    "kernelspec": {
      "display_name": "Python 3",
      "name": "python3"
    },
    "language_info": {
      "codemirror_mode": {
        "name": "ipython",
        "version": 3
      },
      "file_extension": ".py",
      "mimetype": "text/x-python",
      "name": "python",
      "nbconvert_exporter": "python",
      "pygments_lexer": "ipython3",
      "version": "3.10.12"
    },
    "prev_pub_hash": "3954a6768947e1337f1fbb623d47144c102fda57b5eb30076fea611e015e66ea",
    "colab": {
      "provenance": [],
      "gpuType": "T4"
    },
    "accelerator": "GPU"
  },
  "nbformat": 4,
  "nbformat_minor": 0
}