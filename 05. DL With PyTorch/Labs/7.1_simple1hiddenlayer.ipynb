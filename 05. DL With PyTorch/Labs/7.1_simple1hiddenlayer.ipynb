{
 "cells": [
  {
   "cell_type": "markdown",
   "id": "c8605c10-ea73-4a9c-9ed3-4e5229dd8271",
   "metadata": {},
   "source": [
    "<h1>Simple One Hidden Layer Neural Network</h1>\n"
   ]
  },
  {
   "cell_type": "markdown",
   "id": "135535a6-8d29-4a53-92d8-0a55a32a7614",
   "metadata": {},
   "source": [
    "<h2>Objective</h2><ul><li> How to create simple Neural Network in pytorch.</li></ul> \n"
   ]
  },
  {
   "cell_type": "markdown",
   "id": "c990a5e3-683d-4614-8e71-dc72b1f12516",
   "metadata": {},
   "source": [
    "<h2>Table of Contents</h2>\n",
    "<p>In this lab, you will use a single-layer neural network to classify non linearly seprable data in 1-Ddatabase.</p>\n",
    "\n",
    "<ul>\n",
    "    <li><a href=\"#Model\">Neural Network Module and Training Function</a></li>\n",
    "    <li><a href=\"#Makeup_Data\">Make Some Data</a></li>\n",
    "    <li><a href=\"#Train\">Define the Neural Network, Criterion Function, Optimizer, and Train the Model</a></li>\n",
    "</ul>\n",
    "<p>Estimated Time Needed: <strong>25 min</strong></p>\n",
    "\n",
    "<hr>\n"
   ]
  },
  {
   "cell_type": "markdown",
   "id": "0f442c8e-a4f6-48a3-8647-51a79f7d50ae",
   "metadata": {},
   "source": [
    "<h2>Preparation</h2>\n"
   ]
  },
  {
   "cell_type": "markdown",
   "id": "2043d64d-9e9f-4ed3-95e7-66c9d6a1c044",
   "metadata": {},
   "source": [
    "We'll need the following libraries\n"
   ]
  },
  {
   "cell_type": "code",
   "execution_count": null,
   "id": "95d31bba-7057-4ec0-88a5-a5597548ce16",
   "metadata": {},
   "outputs": [],
   "source": [
    "# Import the libraries we need for this lab\n",
    "\n",
    "import torch \n",
    "import torch.nn as nn\n",
    "from torch import sigmoid\n",
    "import matplotlib.pylab as plt\n",
    "import numpy as np\n",
    "torch.manual_seed(0)"
   ]
  },
  {
   "cell_type": "markdown",
   "id": "f3d06cc5-f771-4418-977d-bbfd6bebc31f",
   "metadata": {},
   "source": [
    "Used for plotting the model\n"
   ]
  },
  {
   "cell_type": "code",
   "execution_count": null,
   "id": "dc84b893-7e33-429e-959d-390ebdf76b02",
   "metadata": {},
   "outputs": [],
   "source": [
    "# The function for plotting the model\n",
    "\n",
    "def PlotStuff(X, Y, model, epoch, leg=True):\n",
    "    \n",
    "    plt.plot(X.numpy(), model(X).detach().numpy(), label=('epoch ' + str(epoch)))\n",
    "    plt.plot(X.numpy(), Y.numpy(), 'r')\n",
    "    plt.xlabel('x')\n",
    "    if leg == True:\n",
    "        plt.legend()\n",
    "    else:\n",
    "        pass"
   ]
  },
  {
   "cell_type": "markdown",
   "id": "9c43dd1f-cff6-4a7e-ad1d-a1e10677d8e4",
   "metadata": {},
   "source": [
    "<!--Empty Space for separating topics-->\n"
   ]
  },
  {
   "cell_type": "markdown",
   "id": "184a3c8f-7bad-492e-85aa-72c1f9f037f1",
   "metadata": {},
   "source": [
    "<h2 id=\"Model\">Neural Network Module and Training Function</h2> \n"
   ]
  },
  {
   "cell_type": "markdown",
   "id": "5ef26c92-57b0-4cb2-b7c7-921cad16834f",
   "metadata": {},
   "source": [
    "Define the activations and the output of the first linear layer as an attribute. Note that this is not good practice. \n"
   ]
  },
  {
   "cell_type": "code",
   "execution_count": null,
   "id": "73cab8fe-33ee-48e9-95cd-838b9e0ad6f7",
   "metadata": {},
   "outputs": [],
   "source": [
    "# Define the class Net\n",
    "\n",
    "class Net(nn.Module):\n",
    "    \n",
    "    # Constructor\n",
    "    def __init__(self, D_in, H, D_out):\n",
    "        super(Net, self).__init__()\n",
    "        # hidden layer \n",
    "        self.linear1 = nn.Linear(D_in, H)\n",
    "        self.linear2 = nn.Linear(H, D_out)\n",
    "        # Define the first linear layer as an attribute, this is not good practice\n",
    "        self.a1 = None\n",
    "        self.l1 = None\n",
    "        self.l2=None\n",
    "    \n",
    "    # Prediction\n",
    "    def forward(self, x):\n",
    "        self.l1 = self.linear1(x)\n",
    "        self.a1 = sigmoid(self.l1)\n",
    "        self.l2=self.linear2(self.a1)\n",
    "        yhat = sigmoid(self.linear2(self.a1))\n",
    "        return yhat"
   ]
  },
  {
   "cell_type": "markdown",
   "id": "94f0a218-ad0a-4fd8-88d8-c78a033129e2",
   "metadata": {},
   "source": [
    "Define the training function:\n"
   ]
  },
  {
   "cell_type": "code",
   "execution_count": null,
   "id": "2fe3da00-01c6-4a02-aa81-4057b006f2fe",
   "metadata": {},
   "outputs": [],
   "source": [
    "# Define the training function\n",
    "\n",
    "def train(Y, X, model, optimizer, criterion, epochs=1000):\n",
    "    cost = []\n",
    "    total=0\n",
    "    for epoch in range(epochs):\n",
    "        total=0\n",
    "        for y, x in zip(Y, X):\n",
    "            yhat = model(x)\n",
    "            loss = criterion(yhat, y)\n",
    "            loss.backward()\n",
    "            optimizer.step()\n",
    "            optimizer.zero_grad()\n",
    "            #cumulative loss \n",
    "            total+=loss.item() \n",
    "        cost.append(total)\n",
    "        if epoch % 300 == 0:    \n",
    "            PlotStuff(X, Y, model, epoch, leg=True)\n",
    "            plt.show()\n",
    "            model(X)\n",
    "            plt.scatter(model.a1.detach().numpy()[:, 0], model.a1.detach().numpy()[:, 1], c=Y.numpy().reshape(-1))\n",
    "            plt.title('activations')\n",
    "            plt.show()\n",
    "    return cost"
   ]
  },
  {
   "cell_type": "markdown",
   "id": "a3f6a0d4-04a0-4fec-b613-c280390d6602",
   "metadata": {},
   "source": [
    "<!--Empty Space for separating topics-->\n"
   ]
  },
  {
   "cell_type": "markdown",
   "id": "a9cbbe2e-2998-446a-abf5-30ab1cf9345c",
   "metadata": {},
   "source": [
    "<h2 id=\"Makeup_Data\">Make Some Data</h2>\n"
   ]
  },
  {
   "cell_type": "code",
   "execution_count": null,
   "id": "6cd38998-fba7-4dba-94e3-9267df08a66c",
   "metadata": {},
   "outputs": [],
   "source": [
    "# Make some data\n",
    "\n",
    "X = torch.arange(-20, 20, 1).view(-1, 1).type(torch.FloatTensor)\n",
    "Y = torch.zeros(X.shape[0])\n",
    "Y[(X[:, 0] > -4) & (X[:, 0] < 4)] = 1.0"
   ]
  },
  {
   "cell_type": "markdown",
   "id": "55d814d8-3a11-461c-b1e2-7dd04ae14a04",
   "metadata": {},
   "source": [
    "<!--Empty Space for separating topics-->\n"
   ]
  },
  {
   "cell_type": "markdown",
   "id": "104e5c70-a189-4fa4-bfd7-b122ecb5d161",
   "metadata": {},
   "source": [
    "<h2 id=\"Train\">Define the Neural Network, Criterion Function, Optimizer and Train the Model</h2>\n"
   ]
  },
  {
   "cell_type": "markdown",
   "id": "fe60b47b-5418-4450-ac9e-5cdf7a66925f",
   "metadata": {},
   "source": [
    "Create the Cross-Entropy loss function: \n"
   ]
  },
  {
   "cell_type": "code",
   "execution_count": null,
   "id": "85e98687-9f83-4cbe-a552-8864d4979498",
   "metadata": {},
   "outputs": [],
   "source": [
    "# The loss function\n",
    "\n",
    "def criterion_cross(outputs, labels):\n",
    "    out = -1 * torch.mean(labels * torch.log(outputs) + (1 - labels) * torch.log(1 - outputs))\n",
    "    return out"
   ]
  },
  {
   "cell_type": "markdown",
   "id": "5e65ac1e-fb63-4fbb-a406-e0151cbb5f7d",
   "metadata": {},
   "source": [
    "Define the Neural Network, Optimizer, and Train the Model:\n"
   ]
  },
  {
   "cell_type": "code",
   "execution_count": null,
   "id": "3c2f0f21-1d78-48da-9c1b-ff4bdb0b54bf",
   "metadata": {},
   "outputs": [],
   "source": [
    "# Train the model\n",
    "# size of input \n",
    "D_in = 1\n",
    "# size of hidden layer \n",
    "H = 2\n",
    "# number of outputs \n",
    "D_out = 1\n",
    "# learning rate \n",
    "learning_rate = 0.1\n",
    "# create the model \n",
    "model = Net(D_in, H, D_out)\n",
    "#optimizer \n",
    "optimizer = torch.optim.SGD(model.parameters(), lr=learning_rate)\n",
    "#train the model usein\n",
    "cost_cross = train(Y, X, model, optimizer, criterion_cross, epochs=1000)\n",
    "#plot the loss\n",
    "plt.plot(cost_cross)\n",
    "plt.xlabel('epoch')\n",
    "plt.title('cross entropy loss')"
   ]
  },
  {
   "cell_type": "markdown",
   "id": "1a388eef-d10a-40ea-9498-144d527216ff",
   "metadata": {},
   "source": [
    "By examining the output of the  activation, you see by the 600th epoch that the data has been mapped to a linearly separable space.\n"
   ]
  },
  {
   "cell_type": "markdown",
   "id": "f52a57ed-e674-4e5f-8a4b-11221f9f020b",
   "metadata": {},
   "source": [
    "we can make a prediction for a arbitrary one tensors \n"
   ]
  },
  {
   "cell_type": "code",
   "execution_count": null,
   "id": "cc3d1eb4-cf69-4559-8285-1049b01e3f34",
   "metadata": {},
   "outputs": [],
   "source": [
    "x=torch.tensor([0.0])\n",
    "yhat=model(x)\n",
    "yhat"
   ]
  },
  {
   "cell_type": "markdown",
   "id": "2ef86d17-900b-43a8-a0b4-d310987b006f",
   "metadata": {},
   "source": [
    "we can make a prediction for some arbitrary one tensors  \n"
   ]
  },
  {
   "cell_type": "code",
   "execution_count": null,
   "id": "2a3c4695-c595-4311-891b-3ececb5f7072",
   "metadata": {},
   "outputs": [],
   "source": [
    "X_=torch.tensor([[0.0],[2.0],[3.0]])\n",
    "Yhat=model(X_)\n",
    "Yhat"
   ]
  },
  {
   "cell_type": "markdown",
   "id": "490dea3f-6074-4596-9cd2-6a40baf19d75",
   "metadata": {},
   "source": [
    "we  can threshold the predication\n"
   ]
  },
  {
   "cell_type": "code",
   "execution_count": null,
   "id": "f33ccc4a-1c79-40b6-8a0e-43ab716965a9",
   "metadata": {},
   "outputs": [],
   "source": [
    "Yhat=Yhat>0.5\n",
    "Yhat"
   ]
  },
  {
   "cell_type": "markdown",
   "id": "c7c239fc-ee43-42cf-b86d-33a9148016fb",
   "metadata": {},
   "source": [
    "<h3>Practice</h3>\n"
   ]
  },
  {
   "cell_type": "markdown",
   "id": "3247e178-0577-4a0e-b800-ff42f25b449c",
   "metadata": {},
   "source": [
    "Repeat the previous steps above by using the MSE cost or total loss: \n"
   ]
  },
  {
   "cell_type": "code",
   "execution_count": null,
   "id": "6146ac13-904b-4cb7-9b93-61094b2e8185",
   "metadata": {},
   "outputs": [],
   "source": [
    "# Practice: Train the model with MSE Loss Function\n",
    "\n",
    "# Type your code here"
   ]
  },
  {
   "cell_type": "markdown",
   "id": "9538c3da-35bc-40db-949f-80f7cf655bfc",
   "metadata": {},
   "source": [
    "Double-click <b>here</b> for the solution.\n",
    "\n",
    "<!-- \n",
    "learning_rate = 0.1\n",
    "criterion_mse=nn.MSELoss()\n",
    "model=Net(D_in,H,D_out)\n",
    "optimizer=torch.optim.SGD(model.parameters(), lr=learning_rate)\n",
    "cost_mse=train(Y,X,model,optimizer,criterion_mse,epochs=1000)\n",
    "plt.plot(cost_mse)\n",
    "plt.xlabel('epoch')\n",
    "plt.title('MSE loss ')\n",
    "-->\n"
   ]
  },
  {
   "cell_type": "markdown",
   "id": "90bed7bc-07e9-4622-8689-082f317f1105",
   "metadata": {},
   "source": [
    "\n",
    "<a href=\"https://dataplatform.cloud.ibm.com/registration/stepone?utm_source=skills_network&utm_content=in_lab_content_link&utm_id=Lab-IBMDeveloperSkillsNetwork-DL0110EN-SkillsNetwork&context=cpdaas&apps=data_science_experience%2Cwatson_machine_learning\"><img src=\"https://cf-courses-data.s3.us.cloud-object-storage.appdomain.cloud/IBMDeveloperSkillsNetwork-DL0110EN-SkillsNetwork/Template/module%201/images/Watson_Studio.png\"></a>\n"
   ]
  },
  {
   "cell_type": "markdown",
   "id": "17e0f7fc-b293-44d0-91c7-292813dbcefa",
   "metadata": {},
   "source": [
    "<!--Empty Space for separating topics-->\n"
   ]
  },
  {
   "cell_type": "markdown",
   "id": "e3451a0f-6062-4120-a3d0-0da0b3441e36",
   "metadata": {},
   "source": [
    "<h2>About the Authors:</h2> \n",
    "\n",
    "<a href=\"https://www.linkedin.com/in/joseph-s-50398b136/\">Joseph Santarcangelo</a> has a PhD in Electrical Engineering, his research focused on using machine learning, signal processing, and computer vision to determine how videos impact human cognition. Joseph has been working for IBM since he completed his PhD. \n"
   ]
  },
  {
   "cell_type": "markdown",
   "id": "1ec78c45-4676-4da1-88f8-585f9388aac9",
   "metadata": {},
   "source": [
    "Other contributors: <a href=\"https://www.linkedin.com/in/michelleccarey/\">Michelle Carey</a>, <a href=\"https://www.linkedin.com/in/jiahui-mavis-zhou-a4537814a\">Mavis Zhou</a>\n"
   ]
  },
  {
   "cell_type": "markdown",
   "id": "f8002d1c-5c71-42cd-acb6-de1a7e1f5a2f",
   "metadata": {},
   "source": [
    "<!--\n",
    "## Change Log\n",
    "\n",
    "|  Date (YYYY-MM-DD) |  Version | Changed By  |  Change Description |\n",
    "|---|---|---|---|\n",
    "| 2020-09-23  | 2.0  | Shubham  |  Migrated Lab to Markdown and added to course repo in GitLab |\n",
    "-->\n"
   ]
  },
  {
   "cell_type": "markdown",
   "id": "8c0ae7a2-7f99-4180-90a7-a86da20554c8",
   "metadata": {},
   "source": [
    "<hr>\n"
   ]
  },
  {
   "cell_type": "markdown",
   "id": "45309262-2646-4a8a-b628-b84d4b7f60ff",
   "metadata": {},
   "source": [
    "\n",
    "## <h3 align=\"center\"> &#169; IBM Corporation. All rights reserved. <h3/>\n"
   ]
  }
 ],
 "metadata": {
  "kernelspec": {
   "display_name": "Python",
   "language": "python",
   "name": "conda-env-python-py"
  },
  "language_info": {
   "codemirror_mode": {
    "name": "ipython",
    "version": 3
   },
   "file_extension": ".py",
   "mimetype": "text/x-python",
   "name": "python",
   "nbconvert_exporter": "python",
   "pygments_lexer": "ipython3",
   "version": "3.7.12"
  },
  "prev_pub_hash": "c7376ee8f379557856972fee70eb0b7cc6a72f702a09fc0195a7edce7f02b6a4"
 },
 "nbformat": 4,
 "nbformat_minor": 4
}
