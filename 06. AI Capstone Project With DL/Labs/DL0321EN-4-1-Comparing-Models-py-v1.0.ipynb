{
 "cells": [
  {
   "cell_type": "markdown",
   "metadata": {
    "button": false,
    "deletable": true,
    "new_sheet": false,
    "run_control": {
     "read_only": false
    }
   },
   "source": [
    "<a href=\"https://cognitiveclass.ai\"><img src = \"https://s3-api.us-geo.objectstorage.softlayer.net/cf-courses-data/CognitiveClass/Logos/organization_logo/organization_logo.png\" width = 400> </a>\n",
    "\n",
    "<h1 align=center><font size = 5>Peer Review Final Assignment</font></h1>"
   ]
  },
  {
   "cell_type": "markdown",
   "metadata": {
    "button": false,
    "deletable": true,
    "new_sheet": false,
    "run_control": {
     "read_only": false
    }
   },
   "source": [
    "## Introduction\n"
   ]
  },
  {
   "cell_type": "markdown",
   "metadata": {
    "button": false,
    "deletable": true,
    "new_sheet": false,
    "run_control": {
     "read_only": false
    }
   },
   "source": [
    "In this lab, you will build an image classifier using the VGG16 pre-trained model, and you will evaluate it and compare its performance to the model we built in the last module using the ResNet50 pre-trained model. Good luck!"
   ]
  },
  {
   "cell_type": "markdown",
   "metadata": {
    "button": false,
    "deletable": true,
    "new_sheet": false,
    "run_control": {
     "read_only": false
    }
   },
   "source": [
    "## Table of Contents\n",
    "\n",
    "<div class=\"alert alert-block alert-info\" style=\"margin-top: 20px\">\n",
    "\n",
    "<font size = 3>    \n",
    "\n",
    "1. <a href=\"#item41\">Download Data \n",
    "2. <a href=\"#item42\">Part 1</a>\n",
    "3. <a href=\"#item43\">Part 2</a>  \n",
    "4. <a href=\"#item44\">Part 3</a>  \n",
    "\n",
    "</font>\n",
    "    \n",
    "</div>"
   ]
  },
  {
   "cell_type": "markdown",
   "metadata": {
    "button": false,
    "deletable": true,
    "new_sheet": false,
    "run_control": {
     "read_only": false
    }
   },
   "source": [
    "   "
   ]
  },
  {
   "cell_type": "markdown",
   "metadata": {},
   "source": [
    "<a id=\"item41\"></a>"
   ]
  },
  {
   "cell_type": "markdown",
   "metadata": {},
   "source": [
    "## Download Data"
   ]
  },
  {
   "cell_type": "markdown",
   "metadata": {},
   "source": [
    "Use the <code>wget</code> command to download the data for this assignment from here: https://s3-api.us-geo.objectstorage.softlayer.net/cf-courses-data/CognitiveClass/DL0321EN/data/concrete_data_week4.zip"
   ]
  },
  {
   "cell_type": "markdown",
   "metadata": {},
   "source": [
    "Use the following cells to download the data."
   ]
  },
  {
   "cell_type": "code",
   "execution_count": null,
   "metadata": {},
   "outputs": [],
   "source": [
    "# !wget https://s3-api.us-geo.objectstorage.softlayer.net/cf-courses-data/CognitiveClass/DL0321EN/data/concrete_data_week4.zip"
   ]
  },
  {
   "cell_type": "code",
   "execution_count": null,
   "metadata": {},
   "outputs": [],
   "source": [
    "# !unzip -q concrete_data_week4.zip"
   ]
  },
  {
   "cell_type": "markdown",
   "metadata": {},
   "source": [
    "After you unzip the data, you fill find the data has already been divided into a train, validation, and test sets."
   ]
  },
  {
   "cell_type": "markdown",
   "metadata": {},
   "source": [
    "  "
   ]
  },
  {
   "cell_type": "markdown",
   "metadata": {
    "button": false,
    "deletable": true,
    "new_sheet": false,
    "run_control": {
     "read_only": false
    }
   },
   "source": [
    "<a id=\"item42\"></a>"
   ]
  },
  {
   "cell_type": "markdown",
   "metadata": {},
   "source": [
    "## Part 1"
   ]
  },
  {
   "cell_type": "markdown",
   "metadata": {},
   "source": [
    "In this part, you will design a classifier using the VGG16 pre-trained model. Just like the ResNet50 model, you can import the model <code>VGG16</code> from <code>keras.applications</code>."
   ]
  },
  {
   "cell_type": "markdown",
   "metadata": {},
   "source": [
    "You will essentially build your classifier as follows:\n",
    "1. Import libraries, modules, and packages you will need. Make sure to import the *preprocess_input* function from <code>keras.applications.vgg16</code>.\n",
    "2. Use a batch size of 100 images for both training and validation.\n",
    "3. Construct an ImageDataGenerator for the training set and another one for the validation set. VGG16 was originally trained on 224 × 224 images, so make sure to address that when defining the ImageDataGenerator instances.\n",
    "4. Create a sequential model using Keras. Add VGG16 model to it and dense layer.\n",
    "5. Compile the mode using the adam optimizer and the categorical_crossentropy loss function.\n",
    "6. Fit the model on the augmented data using the ImageDataGenerators."
   ]
  },
  {
   "cell_type": "markdown",
   "metadata": {},
   "source": [
    "Use the following cells to create your classifier."
   ]
  },
  {
   "cell_type": "code",
   "execution_count": 2,
   "metadata": {},
   "outputs": [
    {
     "name": "stderr",
     "output_type": "stream",
     "text": [
      "2025-03-08 12:08:42.208009: E external/local_xla/xla/stream_executor/cuda/cuda_fft.cc:477] Unable to register cuFFT factory: Attempting to register factory for plugin cuFFT when one has already been registered\n",
      "WARNING: All log messages before absl::InitializeLog() is called are written to STDERR\n",
      "E0000 00:00:1741415922.228307   51133 cuda_dnn.cc:8310] Unable to register cuDNN factory: Attempting to register factory for plugin cuDNN when one has already been registered\n",
      "E0000 00:00:1741415922.234064   51133 cuda_blas.cc:1418] Unable to register cuBLAS factory: Attempting to register factory for plugin cuBLAS when one has already been registered\n",
      "2025-03-08 12:08:42.254391: I tensorflow/core/platform/cpu_feature_guard.cc:210] This TensorFlow binary is optimized to use available CPU instructions in performance-critical operations.\n",
      "To enable the following instructions: AVX2 FMA, in other operations, rebuild TensorFlow with the appropriate compiler flags.\n"
     ]
    }
   ],
   "source": [
    "from tensorflow.keras.preprocessing.image import ImageDataGenerator\n",
    "from tensorflow.keras.applications.vgg16 import VGG16\n",
    "from tensorflow.keras.models import Sequential\n",
    "from tensorflow.keras.layers import Dense\n",
    "from tensorflow.keras.optimizers import Adam\n",
    "from tensorflow.keras.applications.vgg16 import preprocess_input\n",
    "import os\n",
    "import numpy as np\n",
    "import matplotlib.pyplot as plt"
   ]
  },
  {
   "cell_type": "code",
   "execution_count": 3,
   "metadata": {},
   "outputs": [],
   "source": [
    "train_batch_size, test_batch_size = 100, 100\n",
    "image_resize = 224"
   ]
  },
  {
   "cell_type": "code",
   "execution_count": 8,
   "metadata": {
    "scrolled": true
   },
   "outputs": [],
   "source": [
    "data_generator = ImageDataGenerator(preprocessing_function=preprocess_input)"
   ]
  },
  {
   "cell_type": "code",
   "execution_count": 9,
   "metadata": {},
   "outputs": [
    {
     "name": "stdout",
     "output_type": "stream",
     "text": [
      "Found 30001 images belonging to 2 classes.\n"
     ]
    }
   ],
   "source": [
    "train_generator = data_generator.flow_from_directory(\n",
    "    'concrete_data_week4/train',\n",
    "    target_size=(image_resize, image_resize),\n",
    "    batch_size=train_batch_size,\n",
    "    class_mode='categorical')"
   ]
  },
  {
   "cell_type": "code",
   "execution_count": 10,
   "metadata": {},
   "outputs": [
    {
     "name": "stdout",
     "output_type": "stream",
     "text": [
      "Found 9501 images belonging to 2 classes.\n"
     ]
    }
   ],
   "source": [
    "valid_generator = data_generator.flow_from_directory(\n",
    "    'concrete_data_week4/valid',\n",
    "    target_size=(image_resize, image_resize),\n",
    "    batch_size=train_batch_size,\n",
    "    class_mode='categorical')"
   ]
  },
  {
   "cell_type": "code",
   "execution_count": 11,
   "metadata": {},
   "outputs": [
    {
     "name": "stdout",
     "output_type": "stream",
     "text": [
      "Found 500 images belonging to 2 classes.\n"
     ]
    }
   ],
   "source": [
    "test_generator = data_generator.flow_from_directory(\n",
    "    'concrete_data_week4/test',\n",
    "    target_size=(image_resize, image_resize),\n",
    "    batch_size=test_batch_size,\n",
    "    class_mode='categorical', \n",
    "    shuffle=False)"
   ]
  },
  {
   "cell_type": "code",
   "execution_count": 16,
   "metadata": {},
   "outputs": [
    {
     "data": {
      "text/plain": [
       "5"
      ]
     },
     "execution_count": 16,
     "metadata": {},
     "output_type": "execute_result"
    }
   ],
   "source": [
    "len(test_generator[0][0][:5])"
   ]
  },
  {
   "cell_type": "code",
   "execution_count": 17,
   "metadata": {},
   "outputs": [
    {
     "data": {
      "text/plain": [
       "array([[[[119.061   , 105.221   , 100.32    ],\n",
       "         [118.061   , 104.221   ,  99.32    ],\n",
       "         [119.061   , 105.221   , 100.32    ],\n",
       "         ...,\n",
       "         [121.061   , 110.221   , 104.32    ],\n",
       "         [120.061   , 109.221   , 103.32    ],\n",
       "         [119.061   , 108.221   , 102.32    ]],\n",
       "\n",
       "        [[118.061   , 104.221   ,  99.32    ],\n",
       "         [118.061   , 104.221   ,  99.32    ],\n",
       "         [119.061   , 105.221   , 100.32    ],\n",
       "         ...,\n",
       "         [120.061   , 109.221   , 103.32    ],\n",
       "         [119.061   , 108.221   , 102.32    ],\n",
       "         [118.061   , 107.221   , 101.32    ]],\n",
       "\n",
       "        [[118.061   , 104.221   ,  99.32    ],\n",
       "         [118.061   , 104.221   ,  99.32    ],\n",
       "         [120.061   , 106.221   , 101.32    ],\n",
       "         ...,\n",
       "         [119.061   , 108.221   , 102.32    ],\n",
       "         [118.061   , 107.221   , 101.32    ],\n",
       "         [117.061   , 106.221   , 100.32    ]],\n",
       "\n",
       "        ...,\n",
       "\n",
       "        [[104.061   ,  93.221   ,  87.32    ],\n",
       "         [102.061   ,  91.221   ,  85.32    ],\n",
       "         [106.061   ,  95.221   ,  89.32    ],\n",
       "         ...,\n",
       "         [113.061   , 101.221   ,  98.32    ],\n",
       "         [113.061   , 101.221   ,  98.32    ],\n",
       "         [113.061   , 101.221   ,  98.32    ]],\n",
       "\n",
       "        [[104.061   ,  93.221   ,  87.32    ],\n",
       "         [102.061   ,  91.221   ,  85.32    ],\n",
       "         [106.061   ,  95.221   ,  89.32    ],\n",
       "         ...,\n",
       "         [116.061   , 104.221   , 101.32    ],\n",
       "         [116.061   , 104.221   , 101.32    ],\n",
       "         [116.061   , 104.221   , 101.32    ]],\n",
       "\n",
       "        [[104.061   ,  93.221   ,  87.32    ],\n",
       "         [102.061   ,  91.221   ,  85.32    ],\n",
       "         [106.061   ,  95.221   ,  89.32    ],\n",
       "         ...,\n",
       "         [117.061   , 105.221   , 102.32    ],\n",
       "         [117.061   , 105.221   , 102.32    ],\n",
       "         [117.061   , 105.221   , 102.32    ]]],\n",
       "\n",
       "\n",
       "       [[[ 97.061   ,  93.221   ,  95.32    ],\n",
       "         [ 98.061   ,  94.221   ,  96.32    ],\n",
       "         [ 99.061   ,  95.221   ,  97.32    ],\n",
       "         ...,\n",
       "         [ 52.060997,  49.221   ,  52.32    ],\n",
       "         [ 59.060997,  56.221   ,  59.32    ],\n",
       "         [ 67.061   ,  64.221   ,  67.32    ]],\n",
       "\n",
       "        [[ 98.061   ,  94.221   ,  96.32    ],\n",
       "         [ 98.061   ,  94.221   ,  96.32    ],\n",
       "         [ 97.061   ,  93.221   ,  95.32    ],\n",
       "         ...,\n",
       "         [ 61.060997,  58.221   ,  61.32    ],\n",
       "         [ 67.061   ,  64.221   ,  67.32    ],\n",
       "         [ 74.061   ,  71.221   ,  74.32    ]],\n",
       "\n",
       "        [[103.061   ,  99.221   , 101.32    ],\n",
       "         [101.061   ,  97.221   ,  99.32    ],\n",
       "         [ 98.061   ,  94.221   ,  96.32    ],\n",
       "         ...,\n",
       "         [ 65.061   ,  62.221   ,  65.32    ],\n",
       "         [ 70.061   ,  67.221   ,  70.32    ],\n",
       "         [ 75.061   ,  72.221   ,  75.32    ]],\n",
       "\n",
       "        ...,\n",
       "\n",
       "        [[ 95.061   ,  88.221   ,  86.32    ],\n",
       "         [ 94.061   ,  87.221   ,  85.32    ],\n",
       "         [ 91.061   ,  84.221   ,  82.32    ],\n",
       "         ...,\n",
       "         [ 66.061   ,  65.221   ,  68.32    ],\n",
       "         [ 69.061   ,  68.221   ,  71.32    ],\n",
       "         [ 72.061   ,  71.221   ,  74.32    ]],\n",
       "\n",
       "        [[103.061   ,  96.221   ,  94.32    ],\n",
       "         [101.061   ,  94.221   ,  92.32    ],\n",
       "         [ 96.061   ,  89.221   ,  87.32    ],\n",
       "         ...,\n",
       "         [ 56.060997,  55.221   ,  58.32    ],\n",
       "         [ 59.060997,  58.221   ,  61.32    ],\n",
       "         [ 63.060997,  62.221   ,  65.32    ]],\n",
       "\n",
       "        [[111.061   , 104.221   , 102.32    ],\n",
       "         [109.061   , 102.221   , 100.32    ],\n",
       "         [103.061   ,  96.221   ,  94.32    ],\n",
       "         ...,\n",
       "         [ 48.060997,  47.221   ,  50.32    ],\n",
       "         [ 51.060997,  50.221   ,  53.32    ],\n",
       "         [ 54.060997,  53.221   ,  56.32    ]]],\n",
       "\n",
       "\n",
       "       [[[ 75.061   ,  72.221   ,  75.32    ],\n",
       "         [ 81.061   ,  78.221   ,  81.32    ],\n",
       "         [ 86.061   ,  83.221   ,  86.32    ],\n",
       "         ...,\n",
       "         [ 84.061   ,  82.221   ,  83.32    ],\n",
       "         [ 87.061   ,  84.221   ,  87.32    ],\n",
       "         [ 91.061   ,  88.221   ,  91.32    ]],\n",
       "\n",
       "        [[ 85.061   ,  82.221   ,  85.32    ],\n",
       "         [ 88.061   ,  85.221   ,  88.32    ],\n",
       "         [ 91.061   ,  88.221   ,  91.32    ],\n",
       "         ...,\n",
       "         [ 86.061   ,  84.221   ,  85.32    ],\n",
       "         [ 89.061   ,  86.221   ,  89.32    ],\n",
       "         [ 93.061   ,  90.221   ,  93.32    ]],\n",
       "\n",
       "        [[ 93.061   ,  90.221   ,  93.32    ],\n",
       "         [ 92.061   ,  89.221   ,  92.32    ],\n",
       "         [ 91.061   ,  88.221   ,  91.32    ],\n",
       "         ...,\n",
       "         [ 92.061   ,  90.221   ,  91.32    ],\n",
       "         [ 94.061   ,  91.221   ,  94.32    ],\n",
       "         [ 96.061   ,  93.221   ,  96.32    ]],\n",
       "\n",
       "        ...,\n",
       "\n",
       "        [[ 97.061   ,  93.221   ,  95.32    ],\n",
       "         [ 94.061   ,  90.221   ,  92.32    ],\n",
       "         [ 90.061   ,  86.221   ,  88.32    ],\n",
       "         ...,\n",
       "         [ 74.061   ,  68.221   ,  70.32    ],\n",
       "         [ 77.061   ,  71.221   ,  73.32    ],\n",
       "         [ 82.061   ,  74.221   ,  76.32    ]],\n",
       "\n",
       "        [[ 93.061   ,  89.221   ,  91.32    ],\n",
       "         [ 91.061   ,  87.221   ,  89.32    ],\n",
       "         [ 88.061   ,  84.221   ,  86.32    ],\n",
       "         ...,\n",
       "         [ 91.061   ,  83.221   ,  85.32    ],\n",
       "         [ 94.061   ,  86.221   ,  88.32    ],\n",
       "         [ 98.061   ,  90.221   ,  92.32    ]],\n",
       "\n",
       "        [[ 90.061   ,  86.221   ,  88.32    ],\n",
       "         [ 88.061   ,  84.221   ,  86.32    ],\n",
       "         [ 85.061   ,  81.221   ,  83.32    ],\n",
       "         ...,\n",
       "         [104.061   ,  96.221   ,  98.32    ],\n",
       "         [107.061   ,  99.221   , 101.32    ],\n",
       "         [110.061   , 102.221   , 104.32    ]]],\n",
       "\n",
       "\n",
       "       [[[ 65.061   ,  57.221   ,  53.32    ],\n",
       "         [ 83.061   ,  75.221   ,  71.32    ],\n",
       "         [106.061   ,  98.221   ,  94.32    ],\n",
       "         ...,\n",
       "         [ 84.061   ,  70.221   ,  65.32    ],\n",
       "         [ 81.061   ,  67.221   ,  62.32    ],\n",
       "         [ 77.061   ,  63.221   ,  58.32    ]],\n",
       "\n",
       "        [[ 67.061   ,  59.221   ,  55.32    ],\n",
       "         [ 78.061   ,  70.221   ,  66.32    ],\n",
       "         [ 94.061   ,  86.221   ,  82.32    ],\n",
       "         ...,\n",
       "         [ 67.061   ,  53.221   ,  48.32    ],\n",
       "         [ 68.061   ,  54.221   ,  49.32    ],\n",
       "         [ 68.061   ,  54.221   ,  49.32    ]],\n",
       "\n",
       "        [[ 68.061   ,  60.221   ,  56.32    ],\n",
       "         [ 69.061   ,  61.221   ,  57.32    ],\n",
       "         [ 76.061   ,  68.221   ,  64.32    ],\n",
       "         ...,\n",
       "         [ 50.060997,  36.221   ,  31.32    ],\n",
       "         [ 55.060997,  41.221   ,  36.32    ],\n",
       "         [ 61.060997,  47.221   ,  42.32    ]],\n",
       "\n",
       "        ...,\n",
       "\n",
       "        [[ 86.061   ,  78.221   ,  72.32    ],\n",
       "         [ 90.061   ,  82.221   ,  76.32    ],\n",
       "         [ 97.061   ,  89.221   ,  83.32    ],\n",
       "         ...,\n",
       "         [ 68.061   ,  57.221   ,  51.32    ],\n",
       "         [ 65.061   ,  54.221   ,  48.32    ],\n",
       "         [ 62.060997,  51.221   ,  45.32    ]],\n",
       "\n",
       "        [[ 88.061   ,  80.221   ,  74.32    ],\n",
       "         [ 90.061   ,  82.221   ,  76.32    ],\n",
       "         [ 93.061   ,  85.221   ,  79.32    ],\n",
       "         ...,\n",
       "         [ 66.061   ,  55.221   ,  49.32    ],\n",
       "         [ 63.060997,  52.221   ,  46.32    ],\n",
       "         [ 60.060997,  49.221   ,  43.32    ]],\n",
       "\n",
       "        [[ 90.061   ,  82.221   ,  76.32    ],\n",
       "         [ 89.061   ,  81.221   ,  75.32    ],\n",
       "         [ 89.061   ,  81.221   ,  75.32    ],\n",
       "         ...,\n",
       "         [ 64.061   ,  53.221   ,  47.32    ],\n",
       "         [ 61.060997,  50.221   ,  44.32    ],\n",
       "         [ 58.060997,  47.221   ,  41.32    ]]],\n",
       "\n",
       "\n",
       "       [[[ 82.061   ,  71.221   ,  74.32    ],\n",
       "         [ 78.061   ,  67.221   ,  70.32    ],\n",
       "         [ 74.061   ,  63.221   ,  66.32    ],\n",
       "         ...,\n",
       "         [ 81.061   ,  74.221   ,  72.32    ],\n",
       "         [ 80.061   ,  73.221   ,  71.32    ],\n",
       "         [ 78.061   ,  71.221   ,  69.32    ]],\n",
       "\n",
       "        [[ 82.061   ,  71.221   ,  74.32    ],\n",
       "         [ 79.061   ,  68.221   ,  71.32    ],\n",
       "         [ 75.061   ,  64.221   ,  67.32    ],\n",
       "         ...,\n",
       "         [ 79.061   ,  72.221   ,  70.32    ],\n",
       "         [ 78.061   ,  71.221   ,  69.32    ],\n",
       "         [ 76.061   ,  69.221   ,  67.32    ]],\n",
       "\n",
       "        [[ 81.061   ,  70.221   ,  73.32    ],\n",
       "         [ 78.061   ,  67.221   ,  70.32    ],\n",
       "         [ 75.061   ,  64.221   ,  67.32    ],\n",
       "         ...,\n",
       "         [ 77.061   ,  70.221   ,  68.32    ],\n",
       "         [ 76.061   ,  69.221   ,  67.32    ],\n",
       "         [ 75.061   ,  68.221   ,  66.32    ]],\n",
       "\n",
       "        ...,\n",
       "\n",
       "        [[ 70.061   ,  62.221   ,  64.32    ],\n",
       "         [ 70.061   ,  62.221   ,  64.32    ],\n",
       "         [ 70.061   ,  62.221   ,  64.32    ],\n",
       "         ...,\n",
       "         [ 71.061   ,  64.221   ,  62.32    ],\n",
       "         [ 74.061   ,  67.221   ,  65.32    ],\n",
       "         [ 77.061   ,  70.221   ,  68.32    ]],\n",
       "\n",
       "        [[ 70.061   ,  62.221   ,  64.32    ],\n",
       "         [ 70.061   ,  62.221   ,  64.32    ],\n",
       "         [ 70.061   ,  62.221   ,  64.32    ],\n",
       "         ...,\n",
       "         [ 71.061   ,  64.221   ,  62.32    ],\n",
       "         [ 74.061   ,  67.221   ,  65.32    ],\n",
       "         [ 77.061   ,  70.221   ,  68.32    ]],\n",
       "\n",
       "        [[ 70.061   ,  62.221   ,  64.32    ],\n",
       "         [ 70.061   ,  62.221   ,  64.32    ],\n",
       "         [ 70.061   ,  62.221   ,  64.32    ],\n",
       "         ...,\n",
       "         [ 71.061   ,  64.221   ,  62.32    ],\n",
       "         [ 74.061   ,  67.221   ,  65.32    ],\n",
       "         [ 77.061   ,  70.221   ,  68.32    ]]]], dtype=float32)"
      ]
     },
     "execution_count": 17,
     "metadata": {},
     "output_type": "execute_result"
    }
   ],
   "source": [
    "test_generator[0][0][:5]"
   ]
  },
  {
   "cell_type": "code",
   "execution_count": null,
   "metadata": {},
   "outputs": [],
   "source": [
    "model = Sequential()\n",
    "model.add(VGG16(\n",
    "    include_top=False,\n",
    "    pooling='avg',\n",
    "    weights='imagenet',\n",
    "    ))\n",
    "model.add(Dense(2, activation='softmax'))"
   ]
  },
  {
   "cell_type": "code",
   "execution_count": null,
   "metadata": {},
   "outputs": [],
   "source": [
    "model.layers"
   ]
  },
  {
   "cell_type": "code",
   "execution_count": null,
   "metadata": {},
   "outputs": [],
   "source": [
    "model.layers[0].layers"
   ]
  },
  {
   "cell_type": "code",
   "execution_count": null,
   "metadata": {},
   "outputs": [],
   "source": [
    "# Freezing VGG16 layers, as we don't want to train them\n",
    "model.layers[0].trainable = False"
   ]
  },
  {
   "cell_type": "code",
   "execution_count": null,
   "metadata": {},
   "outputs": [],
   "source": [
    "model.summary()"
   ]
  },
  {
   "cell_type": "code",
   "execution_count": null,
   "metadata": {},
   "outputs": [],
   "source": [
    "model.compile(optimizer='adam', loss='categorical_crossentropy', metrics=['accuracy'])"
   ]
  },
  {
   "cell_type": "code",
   "execution_count": null,
   "metadata": {},
   "outputs": [],
   "source": [
    "num_epochs = 2\n",
    "steps_per_epoch_training = len(train_generator)\n",
    "steps_per_epoch_validation = len(valid_generator)"
   ]
  },
  {
   "cell_type": "code",
   "execution_count": null,
   "metadata": {},
   "outputs": [],
   "source": [
    "history = model.fit(\n",
    "    train_generator,\n",
    "    steps_per_epoch=steps_per_epoch_training,\n",
    "    epochs=num_epochs,\n",
    "    validation_data=valid_generator,\n",
    "    validation_steps=steps_per_epoch_validation,\n",
    "    verbose=1\n",
    ")"
   ]
  },
  {
   "cell_type": "markdown",
   "metadata": {},
   "source": [
    "## Part 2"
   ]
  },
  {
   "cell_type": "markdown",
   "metadata": {},
   "source": [
    "In this part, you will evaluate your deep learning models on a test data. For this part, you will need to do the following:\n",
    "\n",
    "1. Load your saved model that was built using the ResNet50 model. \n",
    "2. Construct an ImageDataGenerator for the test set. For this ImageDataGenerator instance, you only need to pass the directory of the test images, target size, and the **shuffle** parameter and set it to False.\n",
    "3. Use the **evaluate_generator** method to evaluate your models on the test data, by passing the above ImageDataGenerator as an argument. You can learn more about **evaluate_generator** [here](https://keras.io/models/sequential/).\n",
    "4. Print the performance of the classifier using the VGG16 pre-trained model.\n",
    "5. Print the performance of the classifier using the ResNet pre-trained model.\n"
   ]
  },
  {
   "cell_type": "markdown",
   "metadata": {},
   "source": [
    "Use the following cells to evaluate your models."
   ]
  },
  {
   "cell_type": "code",
   "execution_count": null,
   "metadata": {},
   "outputs": [],
   "source": [
    "test_generator = data_generator.flow_from_directory(\n",
    "    'concrete_data_week4/test',\n",
    "    target_size=(image_resize, image_resize),\n",
    "    batch_size=test_batch_size,\n",
    "    class_mode='categorical',\n",
    "    shuffle=False)"
   ]
  },
  {
   "cell_type": "code",
   "execution_count": null,
   "metadata": {},
   "outputs": [],
   "source": [
    "resnet_model_path = 'classifier_resnet_model.h5'\n",
    "resnet_model = tensorflow.keras.models.load_model(resnet_model_path)"
   ]
  },
  {
   "cell_type": "code",
   "execution_count": null,
   "metadata": {},
   "outputs": [],
   "source": [
    "# Evaluating the model vgg16 on the test data\n",
    "loss, accuracy = model.evaluate(test_generator, steps=len(test_generator), verbose=1)\n",
    "print(\"Test accuracy using VGG16 model: \", accuracy)"
   ]
  },
  {
   "cell_type": "code",
   "execution_count": null,
   "metadata": {},
   "outputs": [],
   "source": [
    "# Evaluating the model vgg16 on the test data\n",
    "loss, accuracy = resnet_model.evaluate(test_generator, steps=len(test_generator), verbose=1)\n",
    "print(\"Test accuracy using ResNet model: \", accuracy)"
   ]
  },
  {
   "cell_type": "markdown",
   "metadata": {},
   "source": [
    "<a id=\"item44\"></a>"
   ]
  },
  {
   "cell_type": "markdown",
   "metadata": {},
   "source": [
    "## Part 3"
   ]
  },
  {
   "cell_type": "markdown",
   "metadata": {},
   "source": [
    "In this model, you will predict whether the images in the test data are images of cracked concrete or not. You will do the following:\n",
    "\n",
    "1. Use the **predict_generator** method to predict the class of the images in the test data, by passing the test data ImageDataGenerator instance defined in the previous part as an argument. You can learn more about the **predict_generator** method [here](https://keras.io/models/sequential/).\n",
    "2. Report the class predictions of the first five images in the test set. You should print something list this:\n",
    "\n",
    "\n",
    "    <ul style=\"list-style-type:none\">\n",
    "        <li>Positive</li>  \n",
    "        <li>Negative</li> \n",
    "        <li>Positive</li>\n",
    "        <li>Positive</li>\n",
    "        <li>Negative</li>\n",
    "    </ul>\n"
   ]
  },
  {
   "cell_type": "markdown",
   "metadata": {},
   "source": [
    "Use the following cells to make your predictions."
   ]
  },
  {
   "cell_type": "code",
   "execution_count": null,
   "metadata": {},
   "outputs": [],
   "source": [
    "test_generator[0][0][:5]"
   ]
  },
  {
   "cell_type": "code",
   "execution_count": null,
   "metadata": {},
   "outputs": [],
   "source": [
    "model.predict(test_generator[0][0][:5])"
   ]
  },
  {
   "cell_type": "code",
   "execution_count": null,
   "metadata": {},
   "outputs": [],
   "source": [
    "resent_model.predict(test_generator[0][0][:5])"
   ]
  },
  {
   "cell_type": "code",
   "execution_count": null,
   "metadata": {},
   "outputs": [],
   "source": []
  },
  {
   "cell_type": "markdown",
   "metadata": {},
   "source": [
    "  "
   ]
  },
  {
   "cell_type": "markdown",
   "metadata": {
    "button": false,
    "deletable": true,
    "new_sheet": false,
    "run_control": {
     "read_only": false
    }
   },
   "source": [
    "### Thank you for completing this lab!\n",
    "\n",
    "This notebook was created by Alex Aklson."
   ]
  },
  {
   "cell_type": "markdown",
   "metadata": {
    "button": false,
    "deletable": true,
    "new_sheet": false,
    "run_control": {
     "read_only": false
    }
   },
   "source": [
    "This notebook is part of a course on **Coursera** called *AI Capstone Project with Deep Learning*. If you accessed this notebook outside the course, you can take this course online by clicking [here](https://cocl.us/DL0321EN_Coursera_Week4_LAB1)."
   ]
  },
  {
   "cell_type": "markdown",
   "metadata": {
    "button": false,
    "deletable": true,
    "new_sheet": false,
    "run_control": {
     "read_only": false
    }
   },
   "source": [
    "<hr>\n",
    "\n",
    "Copyright &copy; 2020 [IBM Developer Skills Network](https://cognitiveclass.ai/?utm_source=bducopyrightlink&utm_medium=dswb&utm_campaign=bdu). This notebook and its source code are released under the terms of the [MIT License](https://bigdatauniversity.com/mit-license/)."
   ]
  }
 ],
 "metadata": {
  "kernelspec": {
   "display_name": ".venv",
   "language": "python",
   "name": "python3"
  },
  "language_info": {
   "codemirror_mode": {
    "name": "ipython",
    "version": 3
   },
   "file_extension": ".py",
   "mimetype": "text/x-python",
   "name": "python",
   "nbconvert_exporter": "python",
   "pygments_lexer": "ipython3",
   "version": "3.12.3"
  }
 },
 "nbformat": 4,
 "nbformat_minor": 4
}
